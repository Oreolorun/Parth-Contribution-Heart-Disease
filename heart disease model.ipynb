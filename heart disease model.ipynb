{
 "cells": [
  {
   "cell_type": "markdown",
   "id": "caf51094",
   "metadata": {
    "papermill": {
     "duration": 0.031675,
     "end_time": "2022-04-02T16:17:48.968439",
     "exception": false,
     "start_time": "2022-04-02T16:17:48.936764",
     "status": "completed"
    },
    "tags": []
   },
   "source": [
    "# Importing Libraries and dataset"
   ]
  },
  {
   "cell_type": "code",
   "execution_count": 46,
   "id": "52db1340",
   "metadata": {
    "_cell_guid": "b1076dfc-b9ad-4769-8c92-a6c4dae69d19",
    "_uuid": "8f2839f25d086af736a60e9eeb907d3b93b6e0e5",
    "execution": {
     "iopub.execute_input": "2022-04-02T16:17:49.033224Z",
     "iopub.status.busy": "2022-04-02T16:17:49.032187Z",
     "iopub.status.idle": "2022-04-02T16:17:50.454760Z",
     "shell.execute_reply": "2022-04-02T16:17:50.455223Z",
     "shell.execute_reply.started": "2022-04-02T15:43:13.448123Z"
    },
    "papermill": {
     "duration": 1.457025,
     "end_time": "2022-04-02T16:17:50.455529",
     "exception": false,
     "start_time": "2022-04-02T16:17:48.998504",
     "status": "completed"
    },
    "tags": []
   },
   "outputs": [],
   "source": [
    "import numpy as np \n",
    "import pandas as pd \n",
    "import matplotlib.pyplot as plt\n",
    "import seaborn as sns\n",
    "from imblearn.under_sampling import RandomUnderSampler\n",
    "from sklearn.model_selection import train_test_split\n",
    "from sklearn.pipeline import Pipeline\n",
    "from sklearn.compose import ColumnTransformer\n",
    "from sklearn.preprocessing import StandardScaler,OneHotEncoder\n",
    "from sklearn.model_selection import train_test_split\n",
    "from lightgbm import LGBMClassifier\n",
    "from sklearn.metrics import accuracy_score,roc_auc_score,precision_score,recall_score,f1_score,confusion_matrix,plot_confusion_matrix\n",
    "import joblib  "
   ]
  },
  {
   "cell_type": "code",
   "execution_count": 53,
   "id": "fa709a1c",
   "metadata": {},
   "outputs": [
    {
     "name": "stdout",
     "output_type": "stream",
     "text": [
      "3.3.2\n"
     ]
    }
   ],
   "source": [
    "import lightgbm \n",
    "print(lightgbm.__version__)"
   ]
  },
  {
   "cell_type": "code",
   "execution_count": 6,
   "id": "36bede0c",
   "metadata": {
    "execution": {
     "iopub.execute_input": "2022-04-02T16:17:50.520994Z",
     "iopub.status.busy": "2022-04-02T16:17:50.520197Z",
     "iopub.status.idle": "2022-04-02T16:17:51.398054Z",
     "shell.execute_reply": "2022-04-02T16:17:51.397211Z",
     "shell.execute_reply.started": "2022-04-02T15:41:05.705760Z"
    },
    "papermill": {
     "duration": 0.912058,
     "end_time": "2022-04-02T16:17:51.398209",
     "exception": false,
     "start_time": "2022-04-02T16:17:50.486151",
     "status": "completed"
    },
    "tags": []
   },
   "outputs": [],
   "source": [
    "dataset=pd.read_csv(r'heart_2020_cleaned.csv')\n",
    "data=dataset.copy()"
   ]
  },
  {
   "cell_type": "code",
   "execution_count": 7,
   "id": "0f4b1db9",
   "metadata": {
    "execution": {
     "iopub.execute_input": "2022-04-02T16:17:51.495313Z",
     "iopub.status.busy": "2022-04-02T16:17:51.493420Z",
     "iopub.status.idle": "2022-04-02T16:17:51.496081Z",
     "shell.execute_reply": "2022-04-02T16:17:51.496732Z",
     "shell.execute_reply.started": "2022-04-02T15:41:07.658230Z"
    },
    "papermill": {
     "duration": 0.051667,
     "end_time": "2022-04-02T16:17:51.496957",
     "exception": false,
     "start_time": "2022-04-02T16:17:51.445290",
     "status": "completed"
    },
    "tags": []
   },
   "outputs": [],
   "source": [
    "pd.set_option('max_column', None)"
   ]
  },
  {
   "cell_type": "markdown",
   "id": "e7e8c04a",
   "metadata": {
    "papermill": {
     "duration": 0.031209,
     "end_time": "2022-04-02T16:17:51.568445",
     "exception": false,
     "start_time": "2022-04-02T16:17:51.537236",
     "status": "completed"
    },
    "tags": []
   },
   "source": [
    "# Data Exploration"
   ]
  },
  {
   "cell_type": "code",
   "execution_count": 8,
   "id": "9e14c8e2",
   "metadata": {
    "execution": {
     "iopub.execute_input": "2022-04-02T16:17:51.639935Z",
     "iopub.status.busy": "2022-04-02T16:17:51.639209Z",
     "iopub.status.idle": "2022-04-02T16:17:51.673392Z",
     "shell.execute_reply": "2022-04-02T16:17:51.674026Z",
     "shell.execute_reply.started": "2022-04-02T15:41:07.669584Z"
    },
    "papermill": {
     "duration": 0.075221,
     "end_time": "2022-04-02T16:17:51.674201",
     "exception": false,
     "start_time": "2022-04-02T16:17:51.598980",
     "status": "completed"
    },
    "tags": []
   },
   "outputs": [
    {
     "data": {
      "text/html": [
       "<div>\n",
       "<style scoped>\n",
       "    .dataframe tbody tr th:only-of-type {\n",
       "        vertical-align: middle;\n",
       "    }\n",
       "\n",
       "    .dataframe tbody tr th {\n",
       "        vertical-align: top;\n",
       "    }\n",
       "\n",
       "    .dataframe thead th {\n",
       "        text-align: right;\n",
       "    }\n",
       "</style>\n",
       "<table border=\"1\" class=\"dataframe\">\n",
       "  <thead>\n",
       "    <tr style=\"text-align: right;\">\n",
       "      <th></th>\n",
       "      <th>HeartDisease</th>\n",
       "      <th>BMI</th>\n",
       "      <th>Smoking</th>\n",
       "      <th>AlcoholDrinking</th>\n",
       "      <th>Stroke</th>\n",
       "      <th>PhysicalHealth</th>\n",
       "      <th>MentalHealth</th>\n",
       "      <th>DiffWalking</th>\n",
       "      <th>Sex</th>\n",
       "      <th>AgeCategory</th>\n",
       "      <th>Race</th>\n",
       "      <th>Diabetic</th>\n",
       "      <th>PhysicalActivity</th>\n",
       "      <th>GenHealth</th>\n",
       "      <th>SleepTime</th>\n",
       "      <th>Asthma</th>\n",
       "      <th>KidneyDisease</th>\n",
       "      <th>SkinCancer</th>\n",
       "    </tr>\n",
       "  </thead>\n",
       "  <tbody>\n",
       "    <tr>\n",
       "      <th>0</th>\n",
       "      <td>No</td>\n",
       "      <td>16.60</td>\n",
       "      <td>Yes</td>\n",
       "      <td>No</td>\n",
       "      <td>No</td>\n",
       "      <td>3.0</td>\n",
       "      <td>30.0</td>\n",
       "      <td>No</td>\n",
       "      <td>Female</td>\n",
       "      <td>55-59</td>\n",
       "      <td>White</td>\n",
       "      <td>Yes</td>\n",
       "      <td>Yes</td>\n",
       "      <td>Very good</td>\n",
       "      <td>5.0</td>\n",
       "      <td>Yes</td>\n",
       "      <td>No</td>\n",
       "      <td>Yes</td>\n",
       "    </tr>\n",
       "    <tr>\n",
       "      <th>1</th>\n",
       "      <td>No</td>\n",
       "      <td>20.34</td>\n",
       "      <td>No</td>\n",
       "      <td>No</td>\n",
       "      <td>Yes</td>\n",
       "      <td>0.0</td>\n",
       "      <td>0.0</td>\n",
       "      <td>No</td>\n",
       "      <td>Female</td>\n",
       "      <td>80 or older</td>\n",
       "      <td>White</td>\n",
       "      <td>No</td>\n",
       "      <td>Yes</td>\n",
       "      <td>Very good</td>\n",
       "      <td>7.0</td>\n",
       "      <td>No</td>\n",
       "      <td>No</td>\n",
       "      <td>No</td>\n",
       "    </tr>\n",
       "    <tr>\n",
       "      <th>2</th>\n",
       "      <td>No</td>\n",
       "      <td>26.58</td>\n",
       "      <td>Yes</td>\n",
       "      <td>No</td>\n",
       "      <td>No</td>\n",
       "      <td>20.0</td>\n",
       "      <td>30.0</td>\n",
       "      <td>No</td>\n",
       "      <td>Male</td>\n",
       "      <td>65-69</td>\n",
       "      <td>White</td>\n",
       "      <td>Yes</td>\n",
       "      <td>Yes</td>\n",
       "      <td>Fair</td>\n",
       "      <td>8.0</td>\n",
       "      <td>Yes</td>\n",
       "      <td>No</td>\n",
       "      <td>No</td>\n",
       "    </tr>\n",
       "    <tr>\n",
       "      <th>3</th>\n",
       "      <td>No</td>\n",
       "      <td>24.21</td>\n",
       "      <td>No</td>\n",
       "      <td>No</td>\n",
       "      <td>No</td>\n",
       "      <td>0.0</td>\n",
       "      <td>0.0</td>\n",
       "      <td>No</td>\n",
       "      <td>Female</td>\n",
       "      <td>75-79</td>\n",
       "      <td>White</td>\n",
       "      <td>No</td>\n",
       "      <td>No</td>\n",
       "      <td>Good</td>\n",
       "      <td>6.0</td>\n",
       "      <td>No</td>\n",
       "      <td>No</td>\n",
       "      <td>Yes</td>\n",
       "    </tr>\n",
       "    <tr>\n",
       "      <th>4</th>\n",
       "      <td>No</td>\n",
       "      <td>23.71</td>\n",
       "      <td>No</td>\n",
       "      <td>No</td>\n",
       "      <td>No</td>\n",
       "      <td>28.0</td>\n",
       "      <td>0.0</td>\n",
       "      <td>Yes</td>\n",
       "      <td>Female</td>\n",
       "      <td>40-44</td>\n",
       "      <td>White</td>\n",
       "      <td>No</td>\n",
       "      <td>Yes</td>\n",
       "      <td>Very good</td>\n",
       "      <td>8.0</td>\n",
       "      <td>No</td>\n",
       "      <td>No</td>\n",
       "      <td>No</td>\n",
       "    </tr>\n",
       "    <tr>\n",
       "      <th>5</th>\n",
       "      <td>Yes</td>\n",
       "      <td>28.87</td>\n",
       "      <td>Yes</td>\n",
       "      <td>No</td>\n",
       "      <td>No</td>\n",
       "      <td>6.0</td>\n",
       "      <td>0.0</td>\n",
       "      <td>Yes</td>\n",
       "      <td>Female</td>\n",
       "      <td>75-79</td>\n",
       "      <td>Black</td>\n",
       "      <td>No</td>\n",
       "      <td>No</td>\n",
       "      <td>Fair</td>\n",
       "      <td>12.0</td>\n",
       "      <td>No</td>\n",
       "      <td>No</td>\n",
       "      <td>No</td>\n",
       "    </tr>\n",
       "    <tr>\n",
       "      <th>6</th>\n",
       "      <td>No</td>\n",
       "      <td>21.63</td>\n",
       "      <td>No</td>\n",
       "      <td>No</td>\n",
       "      <td>No</td>\n",
       "      <td>15.0</td>\n",
       "      <td>0.0</td>\n",
       "      <td>No</td>\n",
       "      <td>Female</td>\n",
       "      <td>70-74</td>\n",
       "      <td>White</td>\n",
       "      <td>No</td>\n",
       "      <td>Yes</td>\n",
       "      <td>Fair</td>\n",
       "      <td>4.0</td>\n",
       "      <td>Yes</td>\n",
       "      <td>No</td>\n",
       "      <td>Yes</td>\n",
       "    </tr>\n",
       "    <tr>\n",
       "      <th>7</th>\n",
       "      <td>No</td>\n",
       "      <td>31.64</td>\n",
       "      <td>Yes</td>\n",
       "      <td>No</td>\n",
       "      <td>No</td>\n",
       "      <td>5.0</td>\n",
       "      <td>0.0</td>\n",
       "      <td>Yes</td>\n",
       "      <td>Female</td>\n",
       "      <td>80 or older</td>\n",
       "      <td>White</td>\n",
       "      <td>Yes</td>\n",
       "      <td>No</td>\n",
       "      <td>Good</td>\n",
       "      <td>9.0</td>\n",
       "      <td>Yes</td>\n",
       "      <td>No</td>\n",
       "      <td>No</td>\n",
       "    </tr>\n",
       "    <tr>\n",
       "      <th>8</th>\n",
       "      <td>No</td>\n",
       "      <td>26.45</td>\n",
       "      <td>No</td>\n",
       "      <td>No</td>\n",
       "      <td>No</td>\n",
       "      <td>0.0</td>\n",
       "      <td>0.0</td>\n",
       "      <td>No</td>\n",
       "      <td>Female</td>\n",
       "      <td>80 or older</td>\n",
       "      <td>White</td>\n",
       "      <td>No, borderline diabetes</td>\n",
       "      <td>No</td>\n",
       "      <td>Fair</td>\n",
       "      <td>5.0</td>\n",
       "      <td>No</td>\n",
       "      <td>Yes</td>\n",
       "      <td>No</td>\n",
       "    </tr>\n",
       "    <tr>\n",
       "      <th>9</th>\n",
       "      <td>No</td>\n",
       "      <td>40.69</td>\n",
       "      <td>No</td>\n",
       "      <td>No</td>\n",
       "      <td>No</td>\n",
       "      <td>0.0</td>\n",
       "      <td>0.0</td>\n",
       "      <td>Yes</td>\n",
       "      <td>Male</td>\n",
       "      <td>65-69</td>\n",
       "      <td>White</td>\n",
       "      <td>No</td>\n",
       "      <td>Yes</td>\n",
       "      <td>Good</td>\n",
       "      <td>10.0</td>\n",
       "      <td>No</td>\n",
       "      <td>No</td>\n",
       "      <td>No</td>\n",
       "    </tr>\n",
       "    <tr>\n",
       "      <th>10</th>\n",
       "      <td>Yes</td>\n",
       "      <td>34.30</td>\n",
       "      <td>Yes</td>\n",
       "      <td>No</td>\n",
       "      <td>No</td>\n",
       "      <td>30.0</td>\n",
       "      <td>0.0</td>\n",
       "      <td>Yes</td>\n",
       "      <td>Male</td>\n",
       "      <td>60-64</td>\n",
       "      <td>White</td>\n",
       "      <td>Yes</td>\n",
       "      <td>No</td>\n",
       "      <td>Poor</td>\n",
       "      <td>15.0</td>\n",
       "      <td>Yes</td>\n",
       "      <td>No</td>\n",
       "      <td>No</td>\n",
       "    </tr>\n",
       "    <tr>\n",
       "      <th>11</th>\n",
       "      <td>No</td>\n",
       "      <td>28.71</td>\n",
       "      <td>Yes</td>\n",
       "      <td>No</td>\n",
       "      <td>No</td>\n",
       "      <td>0.0</td>\n",
       "      <td>0.0</td>\n",
       "      <td>No</td>\n",
       "      <td>Female</td>\n",
       "      <td>55-59</td>\n",
       "      <td>White</td>\n",
       "      <td>No</td>\n",
       "      <td>Yes</td>\n",
       "      <td>Very good</td>\n",
       "      <td>5.0</td>\n",
       "      <td>No</td>\n",
       "      <td>No</td>\n",
       "      <td>No</td>\n",
       "    </tr>\n",
       "    <tr>\n",
       "      <th>12</th>\n",
       "      <td>No</td>\n",
       "      <td>28.37</td>\n",
       "      <td>Yes</td>\n",
       "      <td>No</td>\n",
       "      <td>No</td>\n",
       "      <td>0.0</td>\n",
       "      <td>0.0</td>\n",
       "      <td>Yes</td>\n",
       "      <td>Male</td>\n",
       "      <td>75-79</td>\n",
       "      <td>White</td>\n",
       "      <td>Yes</td>\n",
       "      <td>Yes</td>\n",
       "      <td>Very good</td>\n",
       "      <td>8.0</td>\n",
       "      <td>No</td>\n",
       "      <td>No</td>\n",
       "      <td>No</td>\n",
       "    </tr>\n",
       "    <tr>\n",
       "      <th>13</th>\n",
       "      <td>No</td>\n",
       "      <td>28.15</td>\n",
       "      <td>No</td>\n",
       "      <td>No</td>\n",
       "      <td>No</td>\n",
       "      <td>7.0</td>\n",
       "      <td>0.0</td>\n",
       "      <td>Yes</td>\n",
       "      <td>Female</td>\n",
       "      <td>80 or older</td>\n",
       "      <td>White</td>\n",
       "      <td>No</td>\n",
       "      <td>No</td>\n",
       "      <td>Good</td>\n",
       "      <td>7.0</td>\n",
       "      <td>No</td>\n",
       "      <td>No</td>\n",
       "      <td>No</td>\n",
       "    </tr>\n",
       "    <tr>\n",
       "      <th>14</th>\n",
       "      <td>No</td>\n",
       "      <td>29.29</td>\n",
       "      <td>Yes</td>\n",
       "      <td>No</td>\n",
       "      <td>No</td>\n",
       "      <td>0.0</td>\n",
       "      <td>30.0</td>\n",
       "      <td>Yes</td>\n",
       "      <td>Female</td>\n",
       "      <td>60-64</td>\n",
       "      <td>White</td>\n",
       "      <td>No</td>\n",
       "      <td>No</td>\n",
       "      <td>Good</td>\n",
       "      <td>5.0</td>\n",
       "      <td>No</td>\n",
       "      <td>No</td>\n",
       "      <td>No</td>\n",
       "    </tr>\n",
       "    <tr>\n",
       "      <th>15</th>\n",
       "      <td>No</td>\n",
       "      <td>29.18</td>\n",
       "      <td>No</td>\n",
       "      <td>No</td>\n",
       "      <td>No</td>\n",
       "      <td>1.0</td>\n",
       "      <td>0.0</td>\n",
       "      <td>No</td>\n",
       "      <td>Female</td>\n",
       "      <td>50-54</td>\n",
       "      <td>White</td>\n",
       "      <td>No</td>\n",
       "      <td>Yes</td>\n",
       "      <td>Very good</td>\n",
       "      <td>6.0</td>\n",
       "      <td>No</td>\n",
       "      <td>No</td>\n",
       "      <td>No</td>\n",
       "    </tr>\n",
       "    <tr>\n",
       "      <th>16</th>\n",
       "      <td>No</td>\n",
       "      <td>26.26</td>\n",
       "      <td>No</td>\n",
       "      <td>No</td>\n",
       "      <td>No</td>\n",
       "      <td>5.0</td>\n",
       "      <td>2.0</td>\n",
       "      <td>No</td>\n",
       "      <td>Female</td>\n",
       "      <td>70-74</td>\n",
       "      <td>White</td>\n",
       "      <td>No</td>\n",
       "      <td>No</td>\n",
       "      <td>Very good</td>\n",
       "      <td>10.0</td>\n",
       "      <td>No</td>\n",
       "      <td>No</td>\n",
       "      <td>No</td>\n",
       "    </tr>\n",
       "    <tr>\n",
       "      <th>17</th>\n",
       "      <td>No</td>\n",
       "      <td>22.59</td>\n",
       "      <td>Yes</td>\n",
       "      <td>No</td>\n",
       "      <td>No</td>\n",
       "      <td>0.0</td>\n",
       "      <td>30.0</td>\n",
       "      <td>Yes</td>\n",
       "      <td>Male</td>\n",
       "      <td>70-74</td>\n",
       "      <td>White</td>\n",
       "      <td>No, borderline diabetes</td>\n",
       "      <td>Yes</td>\n",
       "      <td>Good</td>\n",
       "      <td>8.0</td>\n",
       "      <td>No</td>\n",
       "      <td>No</td>\n",
       "      <td>No</td>\n",
       "    </tr>\n",
       "    <tr>\n",
       "      <th>18</th>\n",
       "      <td>No</td>\n",
       "      <td>29.86</td>\n",
       "      <td>Yes</td>\n",
       "      <td>No</td>\n",
       "      <td>No</td>\n",
       "      <td>0.0</td>\n",
       "      <td>0.0</td>\n",
       "      <td>Yes</td>\n",
       "      <td>Female</td>\n",
       "      <td>75-79</td>\n",
       "      <td>Black</td>\n",
       "      <td>Yes</td>\n",
       "      <td>No</td>\n",
       "      <td>Fair</td>\n",
       "      <td>5.0</td>\n",
       "      <td>No</td>\n",
       "      <td>Yes</td>\n",
       "      <td>No</td>\n",
       "    </tr>\n",
       "    <tr>\n",
       "      <th>19</th>\n",
       "      <td>No</td>\n",
       "      <td>18.13</td>\n",
       "      <td>No</td>\n",
       "      <td>No</td>\n",
       "      <td>No</td>\n",
       "      <td>0.0</td>\n",
       "      <td>0.0</td>\n",
       "      <td>No</td>\n",
       "      <td>Male</td>\n",
       "      <td>80 or older</td>\n",
       "      <td>White</td>\n",
       "      <td>No</td>\n",
       "      <td>Yes</td>\n",
       "      <td>Excellent</td>\n",
       "      <td>8.0</td>\n",
       "      <td>No</td>\n",
       "      <td>No</td>\n",
       "      <td>Yes</td>\n",
       "    </tr>\n",
       "  </tbody>\n",
       "</table>\n",
       "</div>"
      ],
      "text/plain": [
       "   HeartDisease    BMI Smoking AlcoholDrinking Stroke  PhysicalHealth  \\\n",
       "0            No  16.60     Yes              No     No             3.0   \n",
       "1            No  20.34      No              No    Yes             0.0   \n",
       "2            No  26.58     Yes              No     No            20.0   \n",
       "3            No  24.21      No              No     No             0.0   \n",
       "4            No  23.71      No              No     No            28.0   \n",
       "5           Yes  28.87     Yes              No     No             6.0   \n",
       "6            No  21.63      No              No     No            15.0   \n",
       "7            No  31.64     Yes              No     No             5.0   \n",
       "8            No  26.45      No              No     No             0.0   \n",
       "9            No  40.69      No              No     No             0.0   \n",
       "10          Yes  34.30     Yes              No     No            30.0   \n",
       "11           No  28.71     Yes              No     No             0.0   \n",
       "12           No  28.37     Yes              No     No             0.0   \n",
       "13           No  28.15      No              No     No             7.0   \n",
       "14           No  29.29     Yes              No     No             0.0   \n",
       "15           No  29.18      No              No     No             1.0   \n",
       "16           No  26.26      No              No     No             5.0   \n",
       "17           No  22.59     Yes              No     No             0.0   \n",
       "18           No  29.86     Yes              No     No             0.0   \n",
       "19           No  18.13      No              No     No             0.0   \n",
       "\n",
       "    MentalHealth DiffWalking     Sex  AgeCategory   Race  \\\n",
       "0           30.0          No  Female        55-59  White   \n",
       "1            0.0          No  Female  80 or older  White   \n",
       "2           30.0          No    Male        65-69  White   \n",
       "3            0.0          No  Female        75-79  White   \n",
       "4            0.0         Yes  Female        40-44  White   \n",
       "5            0.0         Yes  Female        75-79  Black   \n",
       "6            0.0          No  Female        70-74  White   \n",
       "7            0.0         Yes  Female  80 or older  White   \n",
       "8            0.0          No  Female  80 or older  White   \n",
       "9            0.0         Yes    Male        65-69  White   \n",
       "10           0.0         Yes    Male        60-64  White   \n",
       "11           0.0          No  Female        55-59  White   \n",
       "12           0.0         Yes    Male        75-79  White   \n",
       "13           0.0         Yes  Female  80 or older  White   \n",
       "14          30.0         Yes  Female        60-64  White   \n",
       "15           0.0          No  Female        50-54  White   \n",
       "16           2.0          No  Female        70-74  White   \n",
       "17          30.0         Yes    Male        70-74  White   \n",
       "18           0.0         Yes  Female        75-79  Black   \n",
       "19           0.0          No    Male  80 or older  White   \n",
       "\n",
       "                   Diabetic PhysicalActivity  GenHealth  SleepTime Asthma  \\\n",
       "0                       Yes              Yes  Very good        5.0    Yes   \n",
       "1                        No              Yes  Very good        7.0     No   \n",
       "2                       Yes              Yes       Fair        8.0    Yes   \n",
       "3                        No               No       Good        6.0     No   \n",
       "4                        No              Yes  Very good        8.0     No   \n",
       "5                        No               No       Fair       12.0     No   \n",
       "6                        No              Yes       Fair        4.0    Yes   \n",
       "7                       Yes               No       Good        9.0    Yes   \n",
       "8   No, borderline diabetes               No       Fair        5.0     No   \n",
       "9                        No              Yes       Good       10.0     No   \n",
       "10                      Yes               No       Poor       15.0    Yes   \n",
       "11                       No              Yes  Very good        5.0     No   \n",
       "12                      Yes              Yes  Very good        8.0     No   \n",
       "13                       No               No       Good        7.0     No   \n",
       "14                       No               No       Good        5.0     No   \n",
       "15                       No              Yes  Very good        6.0     No   \n",
       "16                       No               No  Very good       10.0     No   \n",
       "17  No, borderline diabetes              Yes       Good        8.0     No   \n",
       "18                      Yes               No       Fair        5.0     No   \n",
       "19                       No              Yes  Excellent        8.0     No   \n",
       "\n",
       "   KidneyDisease SkinCancer  \n",
       "0             No        Yes  \n",
       "1             No         No  \n",
       "2             No         No  \n",
       "3             No        Yes  \n",
       "4             No         No  \n",
       "5             No         No  \n",
       "6             No        Yes  \n",
       "7             No         No  \n",
       "8            Yes         No  \n",
       "9             No         No  \n",
       "10            No         No  \n",
       "11            No         No  \n",
       "12            No         No  \n",
       "13            No         No  \n",
       "14            No         No  \n",
       "15            No         No  \n",
       "16            No         No  \n",
       "17            No         No  \n",
       "18           Yes         No  \n",
       "19            No        Yes  "
      ]
     },
     "execution_count": 8,
     "metadata": {},
     "output_type": "execute_result"
    }
   ],
   "source": [
    "data.head(20)"
   ]
  },
  {
   "cell_type": "code",
   "execution_count": 9,
   "id": "f260d4c7",
   "metadata": {
    "execution": {
     "iopub.execute_input": "2022-04-02T16:17:51.770888Z",
     "iopub.status.busy": "2022-04-02T16:17:51.770028Z",
     "iopub.status.idle": "2022-04-02T16:17:51.773636Z",
     "shell.execute_reply": "2022-04-02T16:17:51.774141Z",
     "shell.execute_reply.started": "2022-04-02T15:41:08.511605Z"
    },
    "papermill": {
     "duration": 0.065892,
     "end_time": "2022-04-02T16:17:51.774308",
     "exception": false,
     "start_time": "2022-04-02T16:17:51.708416",
     "status": "completed"
    },
    "tags": []
   },
   "outputs": [
    {
     "data": {
      "text/html": [
       "<div>\n",
       "<style scoped>\n",
       "    .dataframe tbody tr th:only-of-type {\n",
       "        vertical-align: middle;\n",
       "    }\n",
       "\n",
       "    .dataframe tbody tr th {\n",
       "        vertical-align: top;\n",
       "    }\n",
       "\n",
       "    .dataframe thead th {\n",
       "        text-align: right;\n",
       "    }\n",
       "</style>\n",
       "<table border=\"1\" class=\"dataframe\">\n",
       "  <thead>\n",
       "    <tr style=\"text-align: right;\">\n",
       "      <th></th>\n",
       "      <th>HeartDisease</th>\n",
       "      <th>BMI</th>\n",
       "      <th>Smoking</th>\n",
       "      <th>AlcoholDrinking</th>\n",
       "      <th>Stroke</th>\n",
       "      <th>PhysicalHealth</th>\n",
       "      <th>MentalHealth</th>\n",
       "      <th>DiffWalking</th>\n",
       "      <th>Sex</th>\n",
       "      <th>AgeCategory</th>\n",
       "      <th>Race</th>\n",
       "      <th>Diabetic</th>\n",
       "      <th>PhysicalActivity</th>\n",
       "      <th>GenHealth</th>\n",
       "      <th>SleepTime</th>\n",
       "      <th>Asthma</th>\n",
       "      <th>KidneyDisease</th>\n",
       "      <th>SkinCancer</th>\n",
       "    </tr>\n",
       "  </thead>\n",
       "  <tbody>\n",
       "    <tr>\n",
       "      <th>319775</th>\n",
       "      <td>No</td>\n",
       "      <td>24.37</td>\n",
       "      <td>Yes</td>\n",
       "      <td>No</td>\n",
       "      <td>No</td>\n",
       "      <td>0.0</td>\n",
       "      <td>0.0</td>\n",
       "      <td>No</td>\n",
       "      <td>Male</td>\n",
       "      <td>35-39</td>\n",
       "      <td>Hispanic</td>\n",
       "      <td>No</td>\n",
       "      <td>No</td>\n",
       "      <td>Good</td>\n",
       "      <td>8.0</td>\n",
       "      <td>No</td>\n",
       "      <td>No</td>\n",
       "      <td>No</td>\n",
       "    </tr>\n",
       "    <tr>\n",
       "      <th>319776</th>\n",
       "      <td>No</td>\n",
       "      <td>27.98</td>\n",
       "      <td>No</td>\n",
       "      <td>No</td>\n",
       "      <td>No</td>\n",
       "      <td>0.0</td>\n",
       "      <td>0.0</td>\n",
       "      <td>No</td>\n",
       "      <td>Female</td>\n",
       "      <td>50-54</td>\n",
       "      <td>Hispanic</td>\n",
       "      <td>No</td>\n",
       "      <td>No</td>\n",
       "      <td>Good</td>\n",
       "      <td>8.0</td>\n",
       "      <td>No</td>\n",
       "      <td>No</td>\n",
       "      <td>No</td>\n",
       "    </tr>\n",
       "    <tr>\n",
       "      <th>319777</th>\n",
       "      <td>No</td>\n",
       "      <td>42.57</td>\n",
       "      <td>No</td>\n",
       "      <td>No</td>\n",
       "      <td>No</td>\n",
       "      <td>0.0</td>\n",
       "      <td>0.0</td>\n",
       "      <td>Yes</td>\n",
       "      <td>Female</td>\n",
       "      <td>60-64</td>\n",
       "      <td>Hispanic</td>\n",
       "      <td>No</td>\n",
       "      <td>No</td>\n",
       "      <td>Good</td>\n",
       "      <td>7.0</td>\n",
       "      <td>No</td>\n",
       "      <td>No</td>\n",
       "      <td>No</td>\n",
       "    </tr>\n",
       "    <tr>\n",
       "      <th>319778</th>\n",
       "      <td>No</td>\n",
       "      <td>26.63</td>\n",
       "      <td>No</td>\n",
       "      <td>No</td>\n",
       "      <td>No</td>\n",
       "      <td>0.0</td>\n",
       "      <td>0.0</td>\n",
       "      <td>No</td>\n",
       "      <td>Female</td>\n",
       "      <td>25-29</td>\n",
       "      <td>Hispanic</td>\n",
       "      <td>No</td>\n",
       "      <td>No</td>\n",
       "      <td>Very good</td>\n",
       "      <td>8.0</td>\n",
       "      <td>No</td>\n",
       "      <td>No</td>\n",
       "      <td>No</td>\n",
       "    </tr>\n",
       "    <tr>\n",
       "      <th>319779</th>\n",
       "      <td>No</td>\n",
       "      <td>23.38</td>\n",
       "      <td>Yes</td>\n",
       "      <td>No</td>\n",
       "      <td>No</td>\n",
       "      <td>30.0</td>\n",
       "      <td>0.0</td>\n",
       "      <td>Yes</td>\n",
       "      <td>Female</td>\n",
       "      <td>70-74</td>\n",
       "      <td>Hispanic</td>\n",
       "      <td>No</td>\n",
       "      <td>Yes</td>\n",
       "      <td>Fair</td>\n",
       "      <td>5.0</td>\n",
       "      <td>No</td>\n",
       "      <td>No</td>\n",
       "      <td>No</td>\n",
       "    </tr>\n",
       "    <tr>\n",
       "      <th>319780</th>\n",
       "      <td>No</td>\n",
       "      <td>30.67</td>\n",
       "      <td>No</td>\n",
       "      <td>No</td>\n",
       "      <td>No</td>\n",
       "      <td>0.0</td>\n",
       "      <td>8.0</td>\n",
       "      <td>No</td>\n",
       "      <td>Female</td>\n",
       "      <td>25-29</td>\n",
       "      <td>Hispanic</td>\n",
       "      <td>No</td>\n",
       "      <td>Yes</td>\n",
       "      <td>Very good</td>\n",
       "      <td>7.0</td>\n",
       "      <td>No</td>\n",
       "      <td>No</td>\n",
       "      <td>No</td>\n",
       "    </tr>\n",
       "    <tr>\n",
       "      <th>319781</th>\n",
       "      <td>Yes</td>\n",
       "      <td>37.12</td>\n",
       "      <td>Yes</td>\n",
       "      <td>No</td>\n",
       "      <td>No</td>\n",
       "      <td>0.0</td>\n",
       "      <td>0.0</td>\n",
       "      <td>No</td>\n",
       "      <td>Male</td>\n",
       "      <td>35-39</td>\n",
       "      <td>Hispanic</td>\n",
       "      <td>No</td>\n",
       "      <td>Yes</td>\n",
       "      <td>Very good</td>\n",
       "      <td>7.0</td>\n",
       "      <td>No</td>\n",
       "      <td>No</td>\n",
       "      <td>No</td>\n",
       "    </tr>\n",
       "    <tr>\n",
       "      <th>319782</th>\n",
       "      <td>No</td>\n",
       "      <td>31.89</td>\n",
       "      <td>Yes</td>\n",
       "      <td>No</td>\n",
       "      <td>No</td>\n",
       "      <td>30.0</td>\n",
       "      <td>30.0</td>\n",
       "      <td>Yes</td>\n",
       "      <td>Female</td>\n",
       "      <td>55-59</td>\n",
       "      <td>Hispanic</td>\n",
       "      <td>No</td>\n",
       "      <td>No</td>\n",
       "      <td>Fair</td>\n",
       "      <td>4.0</td>\n",
       "      <td>No</td>\n",
       "      <td>No</td>\n",
       "      <td>No</td>\n",
       "    </tr>\n",
       "    <tr>\n",
       "      <th>319783</th>\n",
       "      <td>No</td>\n",
       "      <td>33.28</td>\n",
       "      <td>No</td>\n",
       "      <td>No</td>\n",
       "      <td>No</td>\n",
       "      <td>0.0</td>\n",
       "      <td>0.0</td>\n",
       "      <td>No</td>\n",
       "      <td>Female</td>\n",
       "      <td>30-34</td>\n",
       "      <td>Hispanic</td>\n",
       "      <td>No</td>\n",
       "      <td>Yes</td>\n",
       "      <td>Excellent</td>\n",
       "      <td>8.0</td>\n",
       "      <td>No</td>\n",
       "      <td>No</td>\n",
       "      <td>No</td>\n",
       "    </tr>\n",
       "    <tr>\n",
       "      <th>319784</th>\n",
       "      <td>No</td>\n",
       "      <td>26.58</td>\n",
       "      <td>Yes</td>\n",
       "      <td>No</td>\n",
       "      <td>No</td>\n",
       "      <td>0.0</td>\n",
       "      <td>0.0</td>\n",
       "      <td>Yes</td>\n",
       "      <td>Male</td>\n",
       "      <td>75-79</td>\n",
       "      <td>Hispanic</td>\n",
       "      <td>No</td>\n",
       "      <td>Yes</td>\n",
       "      <td>Good</td>\n",
       "      <td>6.0</td>\n",
       "      <td>No</td>\n",
       "      <td>No</td>\n",
       "      <td>No</td>\n",
       "    </tr>\n",
       "    <tr>\n",
       "      <th>319785</th>\n",
       "      <td>No</td>\n",
       "      <td>31.93</td>\n",
       "      <td>No</td>\n",
       "      <td>Yes</td>\n",
       "      <td>No</td>\n",
       "      <td>0.0</td>\n",
       "      <td>0.0</td>\n",
       "      <td>No</td>\n",
       "      <td>Male</td>\n",
       "      <td>65-69</td>\n",
       "      <td>Hispanic</td>\n",
       "      <td>No</td>\n",
       "      <td>Yes</td>\n",
       "      <td>Good</td>\n",
       "      <td>7.0</td>\n",
       "      <td>No</td>\n",
       "      <td>No</td>\n",
       "      <td>No</td>\n",
       "    </tr>\n",
       "    <tr>\n",
       "      <th>319786</th>\n",
       "      <td>Yes</td>\n",
       "      <td>33.20</td>\n",
       "      <td>Yes</td>\n",
       "      <td>No</td>\n",
       "      <td>No</td>\n",
       "      <td>0.0</td>\n",
       "      <td>0.0</td>\n",
       "      <td>No</td>\n",
       "      <td>Female</td>\n",
       "      <td>60-64</td>\n",
       "      <td>Hispanic</td>\n",
       "      <td>Yes</td>\n",
       "      <td>Yes</td>\n",
       "      <td>Very good</td>\n",
       "      <td>8.0</td>\n",
       "      <td>Yes</td>\n",
       "      <td>No</td>\n",
       "      <td>No</td>\n",
       "    </tr>\n",
       "    <tr>\n",
       "      <th>319787</th>\n",
       "      <td>No</td>\n",
       "      <td>36.54</td>\n",
       "      <td>No</td>\n",
       "      <td>No</td>\n",
       "      <td>No</td>\n",
       "      <td>7.0</td>\n",
       "      <td>0.0</td>\n",
       "      <td>No</td>\n",
       "      <td>Male</td>\n",
       "      <td>30-34</td>\n",
       "      <td>Hispanic</td>\n",
       "      <td>No</td>\n",
       "      <td>No</td>\n",
       "      <td>Good</td>\n",
       "      <td>9.0</td>\n",
       "      <td>No</td>\n",
       "      <td>No</td>\n",
       "      <td>No</td>\n",
       "    </tr>\n",
       "    <tr>\n",
       "      <th>319788</th>\n",
       "      <td>No</td>\n",
       "      <td>23.38</td>\n",
       "      <td>No</td>\n",
       "      <td>No</td>\n",
       "      <td>No</td>\n",
       "      <td>0.0</td>\n",
       "      <td>0.0</td>\n",
       "      <td>No</td>\n",
       "      <td>Female</td>\n",
       "      <td>60-64</td>\n",
       "      <td>Hispanic</td>\n",
       "      <td>No</td>\n",
       "      <td>Yes</td>\n",
       "      <td>Excellent</td>\n",
       "      <td>6.0</td>\n",
       "      <td>No</td>\n",
       "      <td>No</td>\n",
       "      <td>No</td>\n",
       "    </tr>\n",
       "    <tr>\n",
       "      <th>319789</th>\n",
       "      <td>No</td>\n",
       "      <td>22.22</td>\n",
       "      <td>No</td>\n",
       "      <td>No</td>\n",
       "      <td>No</td>\n",
       "      <td>0.0</td>\n",
       "      <td>0.0</td>\n",
       "      <td>No</td>\n",
       "      <td>Female</td>\n",
       "      <td>18-24</td>\n",
       "      <td>Hispanic</td>\n",
       "      <td>No</td>\n",
       "      <td>Yes</td>\n",
       "      <td>Excellent</td>\n",
       "      <td>8.0</td>\n",
       "      <td>No</td>\n",
       "      <td>No</td>\n",
       "      <td>No</td>\n",
       "    </tr>\n",
       "    <tr>\n",
       "      <th>319790</th>\n",
       "      <td>Yes</td>\n",
       "      <td>27.41</td>\n",
       "      <td>Yes</td>\n",
       "      <td>No</td>\n",
       "      <td>No</td>\n",
       "      <td>7.0</td>\n",
       "      <td>0.0</td>\n",
       "      <td>Yes</td>\n",
       "      <td>Male</td>\n",
       "      <td>60-64</td>\n",
       "      <td>Hispanic</td>\n",
       "      <td>Yes</td>\n",
       "      <td>No</td>\n",
       "      <td>Fair</td>\n",
       "      <td>6.0</td>\n",
       "      <td>Yes</td>\n",
       "      <td>No</td>\n",
       "      <td>No</td>\n",
       "    </tr>\n",
       "    <tr>\n",
       "      <th>319791</th>\n",
       "      <td>No</td>\n",
       "      <td>29.84</td>\n",
       "      <td>Yes</td>\n",
       "      <td>No</td>\n",
       "      <td>No</td>\n",
       "      <td>0.0</td>\n",
       "      <td>0.0</td>\n",
       "      <td>No</td>\n",
       "      <td>Male</td>\n",
       "      <td>35-39</td>\n",
       "      <td>Hispanic</td>\n",
       "      <td>No</td>\n",
       "      <td>Yes</td>\n",
       "      <td>Very good</td>\n",
       "      <td>5.0</td>\n",
       "      <td>Yes</td>\n",
       "      <td>No</td>\n",
       "      <td>No</td>\n",
       "    </tr>\n",
       "    <tr>\n",
       "      <th>319792</th>\n",
       "      <td>No</td>\n",
       "      <td>24.24</td>\n",
       "      <td>No</td>\n",
       "      <td>No</td>\n",
       "      <td>No</td>\n",
       "      <td>0.0</td>\n",
       "      <td>0.0</td>\n",
       "      <td>No</td>\n",
       "      <td>Female</td>\n",
       "      <td>45-49</td>\n",
       "      <td>Hispanic</td>\n",
       "      <td>No</td>\n",
       "      <td>Yes</td>\n",
       "      <td>Good</td>\n",
       "      <td>6.0</td>\n",
       "      <td>No</td>\n",
       "      <td>No</td>\n",
       "      <td>No</td>\n",
       "    </tr>\n",
       "    <tr>\n",
       "      <th>319793</th>\n",
       "      <td>No</td>\n",
       "      <td>32.81</td>\n",
       "      <td>No</td>\n",
       "      <td>No</td>\n",
       "      <td>No</td>\n",
       "      <td>0.0</td>\n",
       "      <td>0.0</td>\n",
       "      <td>No</td>\n",
       "      <td>Female</td>\n",
       "      <td>25-29</td>\n",
       "      <td>Hispanic</td>\n",
       "      <td>No</td>\n",
       "      <td>No</td>\n",
       "      <td>Good</td>\n",
       "      <td>12.0</td>\n",
       "      <td>No</td>\n",
       "      <td>No</td>\n",
       "      <td>No</td>\n",
       "    </tr>\n",
       "    <tr>\n",
       "      <th>319794</th>\n",
       "      <td>No</td>\n",
       "      <td>46.56</td>\n",
       "      <td>No</td>\n",
       "      <td>No</td>\n",
       "      <td>No</td>\n",
       "      <td>0.0</td>\n",
       "      <td>0.0</td>\n",
       "      <td>No</td>\n",
       "      <td>Female</td>\n",
       "      <td>80 or older</td>\n",
       "      <td>Hispanic</td>\n",
       "      <td>No</td>\n",
       "      <td>Yes</td>\n",
       "      <td>Good</td>\n",
       "      <td>8.0</td>\n",
       "      <td>No</td>\n",
       "      <td>No</td>\n",
       "      <td>No</td>\n",
       "    </tr>\n",
       "  </tbody>\n",
       "</table>\n",
       "</div>"
      ],
      "text/plain": [
       "       HeartDisease    BMI Smoking AlcoholDrinking Stroke  PhysicalHealth  \\\n",
       "319775           No  24.37     Yes              No     No             0.0   \n",
       "319776           No  27.98      No              No     No             0.0   \n",
       "319777           No  42.57      No              No     No             0.0   \n",
       "319778           No  26.63      No              No     No             0.0   \n",
       "319779           No  23.38     Yes              No     No            30.0   \n",
       "319780           No  30.67      No              No     No             0.0   \n",
       "319781          Yes  37.12     Yes              No     No             0.0   \n",
       "319782           No  31.89     Yes              No     No            30.0   \n",
       "319783           No  33.28      No              No     No             0.0   \n",
       "319784           No  26.58     Yes              No     No             0.0   \n",
       "319785           No  31.93      No             Yes     No             0.0   \n",
       "319786          Yes  33.20     Yes              No     No             0.0   \n",
       "319787           No  36.54      No              No     No             7.0   \n",
       "319788           No  23.38      No              No     No             0.0   \n",
       "319789           No  22.22      No              No     No             0.0   \n",
       "319790          Yes  27.41     Yes              No     No             7.0   \n",
       "319791           No  29.84     Yes              No     No             0.0   \n",
       "319792           No  24.24      No              No     No             0.0   \n",
       "319793           No  32.81      No              No     No             0.0   \n",
       "319794           No  46.56      No              No     No             0.0   \n",
       "\n",
       "        MentalHealth DiffWalking     Sex  AgeCategory      Race Diabetic  \\\n",
       "319775           0.0          No    Male        35-39  Hispanic       No   \n",
       "319776           0.0          No  Female        50-54  Hispanic       No   \n",
       "319777           0.0         Yes  Female        60-64  Hispanic       No   \n",
       "319778           0.0          No  Female        25-29  Hispanic       No   \n",
       "319779           0.0         Yes  Female        70-74  Hispanic       No   \n",
       "319780           8.0          No  Female        25-29  Hispanic       No   \n",
       "319781           0.0          No    Male        35-39  Hispanic       No   \n",
       "319782          30.0         Yes  Female        55-59  Hispanic       No   \n",
       "319783           0.0          No  Female        30-34  Hispanic       No   \n",
       "319784           0.0         Yes    Male        75-79  Hispanic       No   \n",
       "319785           0.0          No    Male        65-69  Hispanic       No   \n",
       "319786           0.0          No  Female        60-64  Hispanic      Yes   \n",
       "319787           0.0          No    Male        30-34  Hispanic       No   \n",
       "319788           0.0          No  Female        60-64  Hispanic       No   \n",
       "319789           0.0          No  Female        18-24  Hispanic       No   \n",
       "319790           0.0         Yes    Male        60-64  Hispanic      Yes   \n",
       "319791           0.0          No    Male        35-39  Hispanic       No   \n",
       "319792           0.0          No  Female        45-49  Hispanic       No   \n",
       "319793           0.0          No  Female        25-29  Hispanic       No   \n",
       "319794           0.0          No  Female  80 or older  Hispanic       No   \n",
       "\n",
       "       PhysicalActivity  GenHealth  SleepTime Asthma KidneyDisease SkinCancer  \n",
       "319775               No       Good        8.0     No            No         No  \n",
       "319776               No       Good        8.0     No            No         No  \n",
       "319777               No       Good        7.0     No            No         No  \n",
       "319778               No  Very good        8.0     No            No         No  \n",
       "319779              Yes       Fair        5.0     No            No         No  \n",
       "319780              Yes  Very good        7.0     No            No         No  \n",
       "319781              Yes  Very good        7.0     No            No         No  \n",
       "319782               No       Fair        4.0     No            No         No  \n",
       "319783              Yes  Excellent        8.0     No            No         No  \n",
       "319784              Yes       Good        6.0     No            No         No  \n",
       "319785              Yes       Good        7.0     No            No         No  \n",
       "319786              Yes  Very good        8.0    Yes            No         No  \n",
       "319787               No       Good        9.0     No            No         No  \n",
       "319788              Yes  Excellent        6.0     No            No         No  \n",
       "319789              Yes  Excellent        8.0     No            No         No  \n",
       "319790               No       Fair        6.0    Yes            No         No  \n",
       "319791              Yes  Very good        5.0    Yes            No         No  \n",
       "319792              Yes       Good        6.0     No            No         No  \n",
       "319793               No       Good       12.0     No            No         No  \n",
       "319794              Yes       Good        8.0     No            No         No  "
      ]
     },
     "execution_count": 9,
     "metadata": {},
     "output_type": "execute_result"
    }
   ],
   "source": [
    "data.tail(20)"
   ]
  },
  {
   "cell_type": "code",
   "execution_count": 10,
   "id": "81b1ecf3",
   "metadata": {
    "execution": {
     "iopub.execute_input": "2022-04-02T16:17:51.850158Z",
     "iopub.status.busy": "2022-04-02T16:17:51.849315Z",
     "iopub.status.idle": "2022-04-02T16:17:51.852902Z",
     "shell.execute_reply": "2022-04-02T16:17:51.853523Z",
     "shell.execute_reply.started": "2022-04-02T15:41:08.581928Z"
    },
    "papermill": {
     "duration": 0.044575,
     "end_time": "2022-04-02T16:17:51.853685",
     "exception": false,
     "start_time": "2022-04-02T16:17:51.809110",
     "status": "completed"
    },
    "tags": []
   },
   "outputs": [
    {
     "data": {
      "text/plain": [
       "(319795, 18)"
      ]
     },
     "execution_count": 10,
     "metadata": {},
     "output_type": "execute_result"
    }
   ],
   "source": [
    "data.shape"
   ]
  },
  {
   "cell_type": "code",
   "execution_count": 11,
   "id": "7c6e6718",
   "metadata": {
    "execution": {
     "iopub.execute_input": "2022-04-02T16:17:51.926811Z",
     "iopub.status.busy": "2022-04-02T16:17:51.925969Z",
     "iopub.status.idle": "2022-04-02T16:17:52.141667Z",
     "shell.execute_reply": "2022-04-02T16:17:52.140363Z",
     "shell.execute_reply.started": "2022-04-02T15:41:08.593097Z"
    },
    "papermill": {
     "duration": 0.251148,
     "end_time": "2022-04-02T16:17:52.141812",
     "exception": false,
     "start_time": "2022-04-02T16:17:51.890664",
     "status": "completed"
    },
    "tags": []
   },
   "outputs": [
    {
     "name": "stdout",
     "output_type": "stream",
     "text": [
      "<class 'pandas.core.frame.DataFrame'>\n",
      "RangeIndex: 319795 entries, 0 to 319794\n",
      "Data columns (total 18 columns):\n",
      " #   Column            Non-Null Count   Dtype  \n",
      "---  ------            --------------   -----  \n",
      " 0   HeartDisease      319795 non-null  object \n",
      " 1   BMI               319795 non-null  float64\n",
      " 2   Smoking           319795 non-null  object \n",
      " 3   AlcoholDrinking   319795 non-null  object \n",
      " 4   Stroke            319795 non-null  object \n",
      " 5   PhysicalHealth    319795 non-null  float64\n",
      " 6   MentalHealth      319795 non-null  float64\n",
      " 7   DiffWalking       319795 non-null  object \n",
      " 8   Sex               319795 non-null  object \n",
      " 9   AgeCategory       319795 non-null  object \n",
      " 10  Race              319795 non-null  object \n",
      " 11  Diabetic          319795 non-null  object \n",
      " 12  PhysicalActivity  319795 non-null  object \n",
      " 13  GenHealth         319795 non-null  object \n",
      " 14  SleepTime         319795 non-null  float64\n",
      " 15  Asthma            319795 non-null  object \n",
      " 16  KidneyDisease     319795 non-null  object \n",
      " 17  SkinCancer        319795 non-null  object \n",
      "dtypes: float64(4), object(14)\n",
      "memory usage: 43.9+ MB\n"
     ]
    }
   ],
   "source": [
    "data.info()"
   ]
  },
  {
   "cell_type": "code",
   "execution_count": 12,
   "id": "94d32a94",
   "metadata": {
    "execution": {
     "iopub.execute_input": "2022-04-02T16:17:52.233528Z",
     "iopub.status.busy": "2022-04-02T16:17:52.224681Z",
     "iopub.status.idle": "2022-04-02T16:17:52.507661Z",
     "shell.execute_reply": "2022-04-02T16:17:52.507108Z",
     "shell.execute_reply.started": "2022-04-02T15:41:12.486136Z"
    },
    "papermill": {
     "duration": 0.329509,
     "end_time": "2022-04-02T16:17:52.507800",
     "exception": false,
     "start_time": "2022-04-02T16:17:52.178291",
     "status": "completed"
    },
    "tags": []
   },
   "outputs": [
    {
     "data": {
      "text/plain": [
       "HeartDisease           2\n",
       "BMI                 3604\n",
       "Smoking                2\n",
       "AlcoholDrinking        2\n",
       "Stroke                 2\n",
       "PhysicalHealth        31\n",
       "MentalHealth          31\n",
       "DiffWalking            2\n",
       "Sex                    2\n",
       "AgeCategory           13\n",
       "Race                   6\n",
       "Diabetic               4\n",
       "PhysicalActivity       2\n",
       "GenHealth              5\n",
       "SleepTime             24\n",
       "Asthma                 2\n",
       "KidneyDisease          2\n",
       "SkinCancer             2\n",
       "dtype: int64"
      ]
     },
     "execution_count": 12,
     "metadata": {},
     "output_type": "execute_result"
    }
   ],
   "source": [
    "data.nunique()"
   ]
  },
  {
   "cell_type": "code",
   "execution_count": 13,
   "id": "7ef97a65",
   "metadata": {
    "execution": {
     "iopub.execute_input": "2022-04-02T16:17:52.591925Z",
     "iopub.status.busy": "2022-04-02T16:17:52.591280Z",
     "iopub.status.idle": "2022-04-02T16:17:52.659396Z",
     "shell.execute_reply": "2022-04-02T16:17:52.659988Z",
     "shell.execute_reply.started": "2022-04-02T15:41:12.961717Z"
    },
    "papermill": {
     "duration": 0.115444,
     "end_time": "2022-04-02T16:17:52.660165",
     "exception": false,
     "start_time": "2022-04-02T16:17:52.544721",
     "status": "completed"
    },
    "tags": []
   },
   "outputs": [
    {
     "data": {
      "text/html": [
       "<div>\n",
       "<style scoped>\n",
       "    .dataframe tbody tr th:only-of-type {\n",
       "        vertical-align: middle;\n",
       "    }\n",
       "\n",
       "    .dataframe tbody tr th {\n",
       "        vertical-align: top;\n",
       "    }\n",
       "\n",
       "    .dataframe thead th {\n",
       "        text-align: right;\n",
       "    }\n",
       "</style>\n",
       "<table border=\"1\" class=\"dataframe\">\n",
       "  <thead>\n",
       "    <tr style=\"text-align: right;\">\n",
       "      <th></th>\n",
       "      <th>count</th>\n",
       "      <th>mean</th>\n",
       "      <th>std</th>\n",
       "      <th>min</th>\n",
       "      <th>25%</th>\n",
       "      <th>50%</th>\n",
       "      <th>75%</th>\n",
       "      <th>max</th>\n",
       "    </tr>\n",
       "  </thead>\n",
       "  <tbody>\n",
       "    <tr>\n",
       "      <th>BMI</th>\n",
       "      <td>319795.0</td>\n",
       "      <td>28.325399</td>\n",
       "      <td>6.356100</td>\n",
       "      <td>12.02</td>\n",
       "      <td>24.03</td>\n",
       "      <td>27.34</td>\n",
       "      <td>31.42</td>\n",
       "      <td>94.85</td>\n",
       "    </tr>\n",
       "    <tr>\n",
       "      <th>PhysicalHealth</th>\n",
       "      <td>319795.0</td>\n",
       "      <td>3.371710</td>\n",
       "      <td>7.950850</td>\n",
       "      <td>0.00</td>\n",
       "      <td>0.00</td>\n",
       "      <td>0.00</td>\n",
       "      <td>2.00</td>\n",
       "      <td>30.00</td>\n",
       "    </tr>\n",
       "    <tr>\n",
       "      <th>MentalHealth</th>\n",
       "      <td>319795.0</td>\n",
       "      <td>3.898366</td>\n",
       "      <td>7.955235</td>\n",
       "      <td>0.00</td>\n",
       "      <td>0.00</td>\n",
       "      <td>0.00</td>\n",
       "      <td>3.00</td>\n",
       "      <td>30.00</td>\n",
       "    </tr>\n",
       "    <tr>\n",
       "      <th>SleepTime</th>\n",
       "      <td>319795.0</td>\n",
       "      <td>7.097075</td>\n",
       "      <td>1.436007</td>\n",
       "      <td>1.00</td>\n",
       "      <td>6.00</td>\n",
       "      <td>7.00</td>\n",
       "      <td>8.00</td>\n",
       "      <td>24.00</td>\n",
       "    </tr>\n",
       "  </tbody>\n",
       "</table>\n",
       "</div>"
      ],
      "text/plain": [
       "                   count       mean       std    min    25%    50%    75%  \\\n",
       "BMI             319795.0  28.325399  6.356100  12.02  24.03  27.34  31.42   \n",
       "PhysicalHealth  319795.0   3.371710  7.950850   0.00   0.00   0.00   2.00   \n",
       "MentalHealth    319795.0   3.898366  7.955235   0.00   0.00   0.00   3.00   \n",
       "SleepTime       319795.0   7.097075  1.436007   1.00   6.00   7.00   8.00   \n",
       "\n",
       "                  max  \n",
       "BMI             94.85  \n",
       "PhysicalHealth  30.00  \n",
       "MentalHealth    30.00  \n",
       "SleepTime       24.00  "
      ]
     },
     "execution_count": 13,
     "metadata": {},
     "output_type": "execute_result"
    }
   ],
   "source": [
    "data.describe().T"
   ]
  },
  {
   "cell_type": "markdown",
   "id": "04dfc53a",
   "metadata": {
    "papermill": {
     "duration": 0.033315,
     "end_time": "2022-04-02T16:17:52.726993",
     "exception": false,
     "start_time": "2022-04-02T16:17:52.693678",
     "status": "completed"
    },
    "tags": []
   },
   "source": [
    "## Data Description \n",
    "       \n",
    "1. HeartDisease :Respondents that have ever reported having coronary heart disease (CHD) or myocardial infarction (MI)\n",
    "      \n",
    "2. BMI: Body Mass Index (BMI)\n",
    "3. Smoking: Have you smoked at least 100 cigarettes in your entire life? [Note: 5 packs = 100 cigarettes]\n",
    "4. AlcoholDrinking: Heavy drinkers (adult men having more than 14 drinks per week and adult women having more than 7 drinks per week\n",
    "5. Stroke: (Ever told) (you had) a stroke?\n",
    "6. PhysicalHealth: Now thinking about your physical health, which includes physical illness and injury, for how many days during the past 30\n",
    "7. MentalHealth: Thinking about your mental health, for how many days during the past 30 days was your mental health not good?\n",
    "8. DiffWalking: Do you have serious difficulty walking or climbing stairs?\n",
    "9. Sex: Are you male or female?\n",
    "10.AgeCategory: Fourteen-level age category\n",
    "11.Race: Imputed race/ethnicity value\n",
    "12.Diabetic: (Ever told) (you had) diabetes?\n",
    "13.PhysicalActivity: Adults who reported doing physical activity or exercise during the past 30 days other than their regular job\n",
    "14.GenHealth: Would you say that in general your health is..\n",
    "15.SleepTime: On average, how many hours of sleep do you get in a 24-hour period?\n",
    "16.Asthma:(Ever told) (you had) asthma?\n",
    "17.KidneyDisease: Not including kidney stones, bladder infection or incontinence, were you ever told you had kidney disease?\n",
    "18.SkinCancer : (Ever told) (you had) skin cancer?"
   ]
  },
  {
   "cell_type": "markdown",
   "id": "e65f78e6",
   "metadata": {
    "papermill": {
     "duration": 0.034628,
     "end_time": "2022-04-02T16:17:52.796117",
     "exception": false,
     "start_time": "2022-04-02T16:17:52.761489",
     "status": "completed"
    },
    "tags": []
   },
   "source": [
    "# Data Visualization "
   ]
  },
  {
   "cell_type": "code",
   "execution_count": 14,
   "id": "7e137166",
   "metadata": {
    "execution": {
     "iopub.execute_input": "2022-04-02T16:17:52.866672Z",
     "iopub.status.busy": "2022-04-02T16:17:52.865806Z",
     "iopub.status.idle": "2022-04-02T16:17:53.050843Z",
     "shell.execute_reply": "2022-04-02T16:17:53.049800Z",
     "shell.execute_reply.started": "2022-04-02T15:41:13.040949Z"
    },
    "papermill": {
     "duration": 0.221379,
     "end_time": "2022-04-02T16:17:53.051090",
     "exception": false,
     "start_time": "2022-04-02T16:17:52.829711",
     "status": "completed"
    },
    "tags": []
   },
   "outputs": [
    {
     "data": {
      "text/plain": [
       "<AxesSubplot:ylabel='HeartDisease'>"
      ]
     },
     "execution_count": 14,
     "metadata": {},
     "output_type": "execute_result"
    },
    {
     "data": {
      "image/png": "[encoded data removed]",
      "text/plain": [
       "<Figure size 432x288 with 1 Axes>"
      ]
     },
     "metadata": {},
     "output_type": "display_data"
    }
   ],
   "source": [
    "data.HeartDisease.value_counts().plot.pie(autopct='.%2f')"
   ]
  },
  {
   "cell_type": "code",
   "execution_count": 15,
   "id": "e389d198",
   "metadata": {
    "execution": {
     "iopub.execute_input": "2022-04-02T16:17:53.174543Z",
     "iopub.status.busy": "2022-04-02T16:17:53.159614Z",
     "iopub.status.idle": "2022-04-02T16:17:53.457799Z",
     "shell.execute_reply": "2022-04-02T16:17:53.458424Z",
     "shell.execute_reply.started": "2022-04-02T15:41:13.217772Z"
    },
    "papermill": {
     "duration": 0.338651,
     "end_time": "2022-04-02T16:17:53.458662",
     "exception": false,
     "start_time": "2022-04-02T16:17:53.120011",
     "status": "completed"
    },
    "tags": []
   },
   "outputs": [
    {
     "data": {
      "text/plain": [
       "<AxesSubplot:xlabel='count', ylabel='HeartDisease'>"
      ]
     },
     "execution_count": 15,
     "metadata": {},
     "output_type": "execute_result"
    },
    {
     "data": {
      "image/png": "[encoded data removed]",
      "text/plain": [
       "<Figure size 432x288 with 1 Axes>"
      ]
     },
     "metadata": {
      "needs_background": "light"
     },
     "output_type": "display_data"
    }
   ],
   "source": [
    "sns.countplot(y=data.HeartDisease)"
   ]
  },
  {
   "cell_type": "code",
   "execution_count": 16,
   "id": "d3bc4a2c",
   "metadata": {
    "execution": {
     "iopub.execute_input": "2022-04-02T16:17:53.551609Z",
     "iopub.status.busy": "2022-04-02T16:17:53.550938Z",
     "iopub.status.idle": "2022-04-02T16:17:53.809808Z",
     "shell.execute_reply": "2022-04-02T16:17:53.809179Z",
     "shell.execute_reply.started": "2022-04-02T15:41:13.791643Z"
    },
    "papermill": {
     "duration": 0.307483,
     "end_time": "2022-04-02T16:17:53.809962",
     "exception": false,
     "start_time": "2022-04-02T16:17:53.502479",
     "status": "completed"
    },
    "tags": []
   },
   "outputs": [
    {
     "data": {
      "text/plain": [
       "17"
      ]
     },
     "execution_count": 16,
     "metadata": {},
     "output_type": "execute_result"
    }
   ],
   "source": [
    "low_cardinality_cols=[col for col in data.columns if data[col].nunique()<=31]\n",
    "len(low_cardinality_cols)\n"
   ]
  },
  {
   "cell_type": "code",
   "execution_count": 17,
   "id": "3baf792c",
   "metadata": {
    "execution": {
     "iopub.execute_input": "2022-04-02T16:17:53.922948Z",
     "iopub.status.busy": "2022-04-02T16:17:53.906989Z",
     "iopub.status.idle": "2022-04-02T16:17:59.592949Z",
     "shell.execute_reply": "2022-04-02T16:17:59.592454Z",
     "shell.execute_reply.started": "2022-04-02T15:41:14.134837Z"
    },
    "papermill": {
     "duration": 5.745247,
     "end_time": "2022-04-02T16:17:59.593089",
     "exception": false,
     "start_time": "2022-04-02T16:17:53.847842",
     "status": "completed"
    },
    "tags": []
   },
   "outputs": [
    {
     "data": {
      "image/png": "[encoded data removed]",
      "text/plain": [
       "<Figure size 432x288 with 1 Axes>"
      ]
     },
     "metadata": {
      "needs_background": "light"
     },
     "output_type": "display_data"
    },
    {
     "data": {
      "image/png": "[encoded data removed]",
      "text/plain": [
       "<Figure size 432x288 with 1 Axes>"
      ]
     },
     "metadata": {
      "needs_background": "light"
     },
     "output_type": "display_data"
    },
    {
     "data": {
      "image/png": "[encoded data removed]",
      "text/plain": [
       "<Figure size 432x288 with 1 Axes>"
      ]
     },
     "metadata": {
      "needs_background": "light"
     },
     "output_type": "display_data"
    },
    {
     "data": {
      "image/png": "[encoded data removed]",
      "text/plain": [
       "<Figure size 432x288 with 1 Axes>"
      ]
     },
     "metadata": {
      "needs_background": "light"
     },
     "output_type": "display_data"
    },
    {
     "data": {
      "image/png": "[encoded data removed]",
      "text/plain": [
       "<Figure size 432x288 with 1 Axes>"
      ]
     },
     "metadata": {
      "needs_background": "light"
     },
     "output_type": "display_data"
    },
    {
     "data": {
      "image/png": "[encoded data removed]",
      "text/plain": [
       "<Figure size 432x288 with 1 Axes>"
      ]
     },
     "metadata": {
      "needs_background": "light"
     },
     "output_type": "display_data"
    },
    {
     "data": {
      "image/png": "[encoded data removed]",
      "text/plain": [
       "<Figure size 432x288 with 1 Axes>"
      ]
     },
     "metadata": {
      "needs_background": "light"
     },
     "output_type": "display_data"
    },
    {
     "data": {
      "image/png": "[encoded data removed]",
      "text/plain": [
       "<Figure size 432x288 with 1 Axes>"
      ]
     },
     "metadata": {
      "needs_background": "light"
     },
     "output_type": "display_data"
    },
    {
     "data": {
      "image/png": "[encoded data removed]",
      "text/plain": [
       "<Figure size 432x288 with 1 Axes>"
      ]
     },
     "metadata": {
      "needs_background": "light"
     },
     "output_type": "display_data"
    },
    {
     "data": {
      "image/png": "[encoded data removed]",
      "text/plain": [
       "<Figure size 432x288 with 1 Axes>"
      ]
     },
     "metadata": {
      "needs_background": "light"
     },
     "output_type": "display_data"
    },
    {
     "data": {
      "image/png": "[encoded data removed]",
      "text/plain": [
       "<Figure size 432x288 with 1 Axes>"
      ]
     },
     "metadata": {
      "needs_background": "light"
     },
     "output_type": "display_data"
    },
    {
     "data": {
      "image/png": "[encoded data removed]",
      "text/plain": [
       "<Figure size 432x288 with 1 Axes>"
      ]
     },
     "metadata": {
      "needs_background": "light"
     },
     "output_type": "display_data"
    },
    {
     "data": {
      "image/png": "[encoded data removed]",
      "text/plain": [
       "<Figure size 432x288 with 1 Axes>"
      ]
     },
     "metadata": {
      "needs_background": "light"
     },
     "output_type": "display_data"
    },
    {
     "data": {
      "image/png": "[encoded data removed]",
      "text/plain": [
       "<Figure size 432x288 with 1 Axes>"
      ]
     },
     "metadata": {
      "needs_background": "light"
     },
     "output_type": "display_data"
    },
    {
     "data": {
      "image/png": "[encoded data removed]",
      "text/plain": [
       "<Figure size 432x288 with 1 Axes>"
      ]
     },
     "metadata": {
      "needs_background": "light"
     },
     "output_type": "display_data"
    },
    {
     "data": {
      "image/png": "[encoded data removed]",
      "text/plain": [
       "<Figure size 432x288 with 1 Axes>"
      ]
     },
     "metadata": {
      "needs_background": "light"
     },
     "output_type": "display_data"
    },
    {
     "data": {
      "image/png": "[encoded data removed]",
      "text/plain": [
       "<Figure size 432x288 with 1 Axes>"
      ]
     },
     "metadata": {
      "needs_background": "light"
     },
     "output_type": "display_data"
    }
   ],
   "source": [
    "for col in low_cardinality_cols:\n",
    "    plt.title(f'countplot of {col}')\n",
    "    sns.countplot(y=data[col])\n",
    "    plt.show()"
   ]
  },
  {
   "cell_type": "code",
   "execution_count": 18,
   "id": "06dfcd2b",
   "metadata": {
    "execution": {
     "iopub.execute_input": "2022-04-02T16:17:59.694292Z",
     "iopub.status.busy": "2022-04-02T16:17:59.693162Z",
     "iopub.status.idle": "2022-04-02T16:18:01.716666Z",
     "shell.execute_reply": "2022-04-02T16:18:01.717146Z",
     "shell.execute_reply.started": "2022-04-02T15:41:22.608869Z"
    },
    "papermill": {
     "duration": 2.07612,
     "end_time": "2022-04-02T16:18:01.717308",
     "exception": false,
     "start_time": "2022-04-02T16:17:59.641188",
     "status": "completed"
    },
    "tags": []
   },
   "outputs": [
    {
     "data": {
      "text/plain": [
       "<AxesSubplot:xlabel='BMI', ylabel='Count'>"
      ]
     },
     "execution_count": 18,
     "metadata": {},
     "output_type": "execute_result"
    },
    {
     "data": {
      "image/png": "[encoded data removed]",
      "text/plain": [
       "<Figure size 432x288 with 1 Axes>"
      ]
     },
     "metadata": {
      "needs_background": "light"
     },
     "output_type": "display_data"
    }
   ],
   "source": [
    "sns.histplot(x=data.BMI,kde=True)"
   ]
  },
  {
   "cell_type": "markdown",
   "id": "92c50961",
   "metadata": {
    "papermill": {
     "duration": 0.047499,
     "end_time": "2022-04-02T16:18:01.812231",
     "exception": false,
     "start_time": "2022-04-02T16:18:01.764732",
     "status": "completed"
    },
    "tags": []
   },
   "source": [
    "# Feature Selection"
   ]
  },
  {
   "cell_type": "code",
   "execution_count": 19,
   "id": "58f978b7",
   "metadata": {
    "execution": {
     "iopub.execute_input": "2022-04-02T16:18:01.912266Z",
     "iopub.status.busy": "2022-04-02T16:18:01.911402Z",
     "iopub.status.idle": "2022-04-02T16:18:01.916503Z",
     "shell.execute_reply": "2022-04-02T16:18:01.916890Z",
     "shell.execute_reply.started": "2022-04-02T15:41:24.924939Z"
    },
    "papermill": {
     "duration": 0.057282,
     "end_time": "2022-04-02T16:18:01.917051",
     "exception": false,
     "start_time": "2022-04-02T16:18:01.859769",
     "status": "completed"
    },
    "tags": []
   },
   "outputs": [
    {
     "data": {
      "text/plain": [
       "Index(['HeartDisease', 'BMI', 'Smoking', 'AlcoholDrinking', 'Stroke',\n",
       "       'PhysicalHealth', 'MentalHealth', 'DiffWalking', 'Sex', 'AgeCategory',\n",
       "       'Race', 'Diabetic', 'PhysicalActivity', 'GenHealth', 'SleepTime',\n",
       "       'Asthma', 'KidneyDisease', 'SkinCancer'],\n",
       "      dtype='object')"
      ]
     },
     "execution_count": 19,
     "metadata": {},
     "output_type": "execute_result"
    }
   ],
   "source": [
    "data.columns"
   ]
  },
  {
   "cell_type": "code",
   "execution_count": 20,
   "id": "28f03870",
   "metadata": {
    "execution": {
     "iopub.execute_input": "2022-04-02T16:18:02.018315Z",
     "iopub.status.busy": "2022-04-02T16:18:02.016670Z",
     "iopub.status.idle": "2022-04-02T16:18:02.020956Z",
     "shell.execute_reply": "2022-04-02T16:18:02.020396Z",
     "shell.execute_reply.started": "2022-04-02T15:41:24.933825Z"
    },
    "papermill": {
     "duration": 0.055946,
     "end_time": "2022-04-02T16:18:02.021101",
     "exception": false,
     "start_time": "2022-04-02T16:18:01.965155",
     "status": "completed"
    },
    "tags": []
   },
   "outputs": [],
   "source": [
    "cols_to_drop=['MentalHealth','Race','SkinCancer','KidneyDisease']"
   ]
  },
  {
   "cell_type": "code",
   "execution_count": 21,
   "id": "61ad4af7",
   "metadata": {
    "execution": {
     "iopub.execute_input": "2022-04-02T16:18:02.125159Z",
     "iopub.status.busy": "2022-04-02T16:18:02.124533Z",
     "iopub.status.idle": "2022-04-02T16:18:02.161412Z",
     "shell.execute_reply": "2022-04-02T16:18:02.161904Z",
     "shell.execute_reply.started": "2022-04-02T15:41:24.947612Z"
    },
    "papermill": {
     "duration": 0.091852,
     "end_time": "2022-04-02T16:18:02.162096",
     "exception": false,
     "start_time": "2022-04-02T16:18:02.070244",
     "status": "completed"
    },
    "tags": []
   },
   "outputs": [],
   "source": [
    "data=data.drop(cols_to_drop,axis=1)"
   ]
  },
  {
   "cell_type": "markdown",
   "id": "9bf2ae0a",
   "metadata": {
    "papermill": {
     "duration": 0.048875,
     "end_time": "2022-04-02T16:18:02.259024",
     "exception": false,
     "start_time": "2022-04-02T16:18:02.210149",
     "status": "completed"
    },
    "tags": []
   },
   "source": [
    "# Balancing dataset with Under Sampling"
   ]
  },
  {
   "cell_type": "code",
   "execution_count": 22,
   "id": "186914e0",
   "metadata": {
    "execution": {
     "iopub.execute_input": "2022-04-02T16:18:02.383742Z",
     "iopub.status.busy": "2022-04-02T16:18:02.359202Z",
     "iopub.status.idle": "2022-04-02T16:18:02.398353Z",
     "shell.execute_reply": "2022-04-02T16:18:02.397853Z",
     "shell.execute_reply.started": "2022-04-02T15:41:24.997379Z"
    },
    "papermill": {
     "duration": 0.090629,
     "end_time": "2022-04-02T16:18:02.398503",
     "exception": false,
     "start_time": "2022-04-02T16:18:02.307874",
     "status": "completed"
    },
    "tags": []
   },
   "outputs": [],
   "source": [
    "X=data.drop('HeartDisease',axis=1)\n",
    "Y=data.HeartDisease"
   ]
  },
  {
   "cell_type": "code",
   "execution_count": 23,
   "id": "d55a4c88",
   "metadata": {
    "execution": {
     "iopub.execute_input": "2022-04-02T16:18:02.547132Z",
     "iopub.status.busy": "2022-04-02T16:18:02.546306Z",
     "iopub.status.idle": "2022-04-02T16:18:02.549423Z",
     "shell.execute_reply": "2022-04-02T16:18:02.549931Z",
     "shell.execute_reply.started": "2022-04-02T15:41:25.039335Z"
    },
    "papermill": {
     "duration": 0.084973,
     "end_time": "2022-04-02T16:18:02.550100",
     "exception": false,
     "start_time": "2022-04-02T16:18:02.465127",
     "status": "completed"
    },
    "tags": []
   },
   "outputs": [
    {
     "data": {
      "text/plain": [
       "No     292422\n",
       "Yes     27373\n",
       "Name: HeartDisease, dtype: int64"
      ]
     },
     "execution_count": 23,
     "metadata": {},
     "output_type": "execute_result"
    }
   ],
   "source": [
    "Y.value_counts()"
   ]
  },
  {
   "cell_type": "code",
   "execution_count": 24,
   "id": "dbcc293b",
   "metadata": {
    "execution": {
     "iopub.execute_input": "2022-04-02T16:18:02.653472Z",
     "iopub.status.busy": "2022-04-02T16:18:02.652765Z",
     "iopub.status.idle": "2022-04-02T16:18:03.970822Z",
     "shell.execute_reply": "2022-04-02T16:18:03.970266Z",
     "shell.execute_reply.started": "2022-04-02T15:41:25.104265Z"
    },
    "papermill": {
     "duration": 1.370864,
     "end_time": "2022-04-02T16:18:03.970956",
     "exception": false,
     "start_time": "2022-04-02T16:18:02.600092",
     "status": "completed"
    },
    "tags": []
   },
   "outputs": [],
   "source": [
    "\n",
    "ros=RandomUnderSampler(sampling_strategy='not minority')\n",
    "\n",
    "ros_X,ros_Y=ros.fit_resample(X,Y)\n"
   ]
  },
  {
   "cell_type": "code",
   "execution_count": 25,
   "id": "ddf42100",
   "metadata": {
    "execution": {
     "iopub.execute_input": "2022-04-02T16:18:04.071161Z",
     "iopub.status.busy": "2022-04-02T16:18:04.070547Z",
     "iopub.status.idle": "2022-04-02T16:18:04.077280Z",
     "shell.execute_reply": "2022-04-02T16:18:04.076807Z",
     "shell.execute_reply.started": "2022-04-02T15:41:27.421104Z"
    },
    "papermill": {
     "duration": 0.057814,
     "end_time": "2022-04-02T16:18:04.077451",
     "exception": false,
     "start_time": "2022-04-02T16:18:04.019637",
     "status": "completed"
    },
    "tags": []
   },
   "outputs": [
    {
     "name": "stdout",
     "output_type": "stream",
     "text": [
      "(54746, 13)\n"
     ]
    },
    {
     "data": {
      "text/plain": [
       "(54746,)"
      ]
     },
     "execution_count": 25,
     "metadata": {},
     "output_type": "execute_result"
    }
   ],
   "source": [
    "print(ros_X.shape)\n",
    "ros_Y.shape"
   ]
  },
  {
   "cell_type": "code",
   "execution_count": 26,
   "id": "d24bd525",
   "metadata": {
    "execution": {
     "iopub.execute_input": "2022-04-02T16:18:04.182064Z",
     "iopub.status.busy": "2022-04-02T16:18:04.181474Z",
     "iopub.status.idle": "2022-04-02T16:18:04.190503Z",
     "shell.execute_reply": "2022-04-02T16:18:04.190948Z",
     "shell.execute_reply.started": "2022-04-02T15:41:27.434302Z"
    },
    "papermill": {
     "duration": 0.062467,
     "end_time": "2022-04-02T16:18:04.191105",
     "exception": false,
     "start_time": "2022-04-02T16:18:04.128638",
     "status": "completed"
    },
    "tags": []
   },
   "outputs": [
    {
     "data": {
      "text/plain": [
       "No     27373\n",
       "Yes    27373\n",
       "Name: HeartDisease, dtype: int64"
      ]
     },
     "execution_count": 26,
     "metadata": {},
     "output_type": "execute_result"
    }
   ],
   "source": [
    "ros_Y.value_counts()"
   ]
  },
  {
   "cell_type": "code",
   "execution_count": 27,
   "id": "84222841",
   "metadata": {
    "execution": {
     "iopub.execute_input": "2022-04-02T16:18:04.294067Z",
     "iopub.status.busy": "2022-04-02T16:18:04.293479Z",
     "iopub.status.idle": "2022-04-02T16:18:04.298549Z",
     "shell.execute_reply": "2022-04-02T16:18:04.298980Z",
     "shell.execute_reply.started": "2022-04-02T15:41:27.458758Z"
    },
    "papermill": {
     "duration": 0.058473,
     "end_time": "2022-04-02T16:18:04.299146",
     "exception": false,
     "start_time": "2022-04-02T16:18:04.240673",
     "status": "completed"
    },
    "tags": []
   },
   "outputs": [
    {
     "data": {
      "text/plain": [
       "0"
      ]
     },
     "execution_count": 27,
     "metadata": {},
     "output_type": "execute_result"
    }
   ],
   "source": [
    "ros_X.BMI.isna().sum()"
   ]
  },
  {
   "cell_type": "markdown",
   "id": "8791e02b",
   "metadata": {
    "papermill": {
     "duration": 0.049682,
     "end_time": "2022-04-02T16:18:04.398773",
     "exception": false,
     "start_time": "2022-04-02T16:18:04.349091",
     "status": "completed"
    },
    "tags": []
   },
   "source": [
    "# train test split and preprocessing pipeline"
   ]
  },
  {
   "cell_type": "code",
   "execution_count": 28,
   "id": "98a5e111",
   "metadata": {
    "execution": {
     "iopub.execute_input": "2022-04-02T16:18:04.501137Z",
     "iopub.status.busy": "2022-04-02T16:18:04.500568Z",
     "iopub.status.idle": "2022-04-02T16:18:04.523532Z",
     "shell.execute_reply": "2022-04-02T16:18:04.524002Z",
     "shell.execute_reply.started": "2022-04-02T15:49:15.830435Z"
    },
    "papermill": {
     "duration": 0.075592,
     "end_time": "2022-04-02T16:18:04.524176",
     "exception": false,
     "start_time": "2022-04-02T16:18:04.448584",
     "status": "completed"
    },
    "tags": []
   },
   "outputs": [],
   "source": [
    "train_X,test_X,train_y,test_y=train_test_split(ros_X,ros_Y,test_size=0.20,random_state=0)"
   ]
  },
  {
   "cell_type": "code",
   "execution_count": 29,
   "id": "ed5f5e97",
   "metadata": {
    "execution": {
     "iopub.execute_input": "2022-04-02T16:18:04.627181Z",
     "iopub.status.busy": "2022-04-02T16:18:04.626614Z",
     "iopub.status.idle": "2022-04-02T16:18:04.649432Z",
     "shell.execute_reply": "2022-04-02T16:18:04.649861Z",
     "shell.execute_reply.started": "2022-04-02T15:49:17.020149Z"
    },
    "papermill": {
     "duration": 0.075791,
     "end_time": "2022-04-02T16:18:04.650041",
     "exception": false,
     "start_time": "2022-04-02T16:18:04.574250",
     "status": "completed"
    },
    "tags": []
   },
   "outputs": [],
   "source": [
    "train_y=train_y.replace({'Yes':1, 'No':0})\n",
    "test_y=test_y.replace({'Yes':1, 'No':0})"
   ]
  },
  {
   "cell_type": "code",
   "execution_count": 30,
   "id": "bf4d6292",
   "metadata": {
    "execution": {
     "iopub.execute_input": "2022-04-02T16:18:04.757287Z",
     "iopub.status.busy": "2022-04-02T16:18:04.756351Z",
     "iopub.status.idle": "2022-04-02T16:18:04.763234Z",
     "shell.execute_reply": "2022-04-02T16:18:04.763742Z",
     "shell.execute_reply.started": "2022-04-02T15:49:18.290283Z"
    },
    "papermill": {
     "duration": 0.063863,
     "end_time": "2022-04-02T16:18:04.763909",
     "exception": false,
     "start_time": "2022-04-02T16:18:04.700046",
     "status": "completed"
    },
    "tags": []
   },
   "outputs": [
    {
     "name": "stdout",
     "output_type": "stream",
     "text": [
      "numerical columns: ['BMI', 'PhysicalHealth', 'SleepTime']\n",
      "categorical columns: ['Smoking', 'AlcoholDrinking', 'Stroke', 'DiffWalking', 'Sex', 'AgeCategory', 'Diabetic', 'PhysicalActivity', 'GenHealth', 'Asthma']\n"
     ]
    }
   ],
   "source": [
    "cat_cols=[col for col in train_X.columns if train_X[col].dtypes=='object']\n",
    "num_cols=[col for col in train_X.columns if train_X[col].dtypes!='object']\n",
    "\n",
    "print(f'numerical columns: {num_cols}')\n",
    "print(f'categorical columns: {cat_cols}')"
   ]
  },
  {
   "cell_type": "code",
   "execution_count": 31,
   "id": "0bb7c5b9",
   "metadata": {
    "execution": {
     "iopub.execute_input": "2022-04-02T16:18:04.868155Z",
     "iopub.status.busy": "2022-04-02T16:18:04.867213Z",
     "iopub.status.idle": "2022-04-02T16:18:04.871909Z",
     "shell.execute_reply": "2022-04-02T16:18:04.872363Z",
     "shell.execute_reply.started": "2022-04-02T15:49:19.144826Z"
    },
    "papermill": {
     "duration": 0.058559,
     "end_time": "2022-04-02T16:18:04.872521",
     "exception": false,
     "start_time": "2022-04-02T16:18:04.813962",
     "status": "completed"
    },
    "tags": []
   },
   "outputs": [],
   "source": [
    "num_preprocess=Pipeline(steps=[\n",
    "    ('scale',StandardScaler())\n",
    "])\n",
    "\n",
    "obj_preprocess=Pipeline(steps=[\n",
    "    ('encode',OneHotEncoder(handle_unknown='ignore'))\n",
    "])\n",
    "\n",
    "preprocesser=ColumnTransformer(transformers=[\n",
    "    ('num',num_preprocess,num_cols),\n",
    "    ('obj',obj_preprocess,cat_cols)\n",
    "])"
   ]
  },
  {
   "cell_type": "markdown",
   "id": "ae1e358f",
   "metadata": {
    "papermill": {
     "duration": 0.049701,
     "end_time": "2022-04-02T16:18:04.972384",
     "exception": false,
     "start_time": "2022-04-02T16:18:04.922683",
     "status": "completed"
    },
    "tags": []
   },
   "source": [
    "# Model building and Evaluation with Light GBM Classifier "
   ]
  },
  {
   "cell_type": "code",
   "execution_count": 32,
   "id": "553a1f06",
   "metadata": {
    "execution": {
     "iopub.execute_input": "2022-04-02T16:18:05.077767Z",
     "iopub.status.busy": "2022-04-02T16:18:05.076871Z",
     "iopub.status.idle": "2022-04-02T16:18:05.997496Z",
     "shell.execute_reply": "2022-04-02T16:18:05.996955Z",
     "shell.execute_reply.started": "2022-04-02T16:07:48.534676Z"
    },
    "papermill": {
     "duration": 0.974621,
     "end_time": "2022-04-02T16:18:05.997639",
     "exception": false,
     "start_time": "2022-04-02T16:18:05.023018",
     "status": "completed"
    },
    "tags": []
   },
   "outputs": [],
   "source": [
    "lgb_model=LGBMClassifier(n_estimators=200,random_state=0,max_depth=30,num_leaves=80,\n",
    "                        learning_rate=0.10,min_child_samples=5,boosting_type='dart')"
   ]
  },
  {
   "cell_type": "code",
   "execution_count": 33,
   "id": "a20eb3f6",
   "metadata": {
    "execution": {
     "iopub.execute_input": "2022-04-02T16:18:06.103541Z",
     "iopub.status.busy": "2022-04-02T16:18:06.102853Z",
     "iopub.status.idle": "2022-04-02T16:18:06.106577Z",
     "shell.execute_reply": "2022-04-02T16:18:06.107080Z",
     "shell.execute_reply.started": "2022-04-02T16:07:48.542118Z"
    },
    "papermill": {
     "duration": 0.057821,
     "end_time": "2022-04-02T16:18:06.107245",
     "exception": false,
     "start_time": "2022-04-02T16:18:06.049424",
     "status": "completed"
    },
    "tags": []
   },
   "outputs": [],
   "source": [
    "lgb_pipe=Pipeline(steps=[\n",
    "    ('preprocess',preprocesser),\n",
    "    ('model',lgb_model)\n",
    "])\n"
   ]
  },
  {
   "cell_type": "code",
   "execution_count": 34,
   "id": "d4a18ac2",
   "metadata": {
    "execution": {
     "iopub.execute_input": "2022-04-02T16:18:06.213280Z",
     "iopub.status.busy": "2022-04-02T16:18:06.212368Z",
     "iopub.status.idle": "2022-04-02T16:18:11.627765Z",
     "shell.execute_reply": "2022-04-02T16:18:11.628316Z",
     "shell.execute_reply.started": "2022-04-02T16:07:48.556406Z"
    },
    "papermill": {
     "duration": 5.470386,
     "end_time": "2022-04-02T16:18:11.628524",
     "exception": false,
     "start_time": "2022-04-02T16:18:06.158138",
     "status": "completed"
    },
    "tags": []
   },
   "outputs": [],
   "source": [
    "lgb_pipe.fit(train_X,train_y)\n",
    "\n",
    "lgb_pred=lgb_pipe.predict(test_X)"
   ]
  },
  {
   "cell_type": "code",
   "execution_count": 35,
   "id": "29a67f5e",
   "metadata": {
    "execution": {
     "iopub.execute_input": "2022-04-02T16:18:11.735265Z",
     "iopub.status.busy": "2022-04-02T16:18:11.734184Z",
     "iopub.status.idle": "2022-04-02T16:18:11.767174Z",
     "shell.execute_reply": "2022-04-02T16:18:11.767696Z",
     "shell.execute_reply.started": "2022-04-02T16:08:01.888358Z"
    },
    "papermill": {
     "duration": 0.087807,
     "end_time": "2022-04-02T16:18:11.767864",
     "exception": false,
     "start_time": "2022-04-02T16:18:11.680057",
     "status": "completed"
    },
    "tags": []
   },
   "outputs": [
    {
     "name": "stdout",
     "output_type": "stream",
     "text": [
      "Accuracy Score of LightGBM Model: 0.7642009132420091\n",
      "ROC AUC Score of LightGBM Model: 0.7666542577952642\n",
      "F1 Score of LightGBM Model: 0.7762952694507018\n",
      "Precision Score of LightGBM Model: 0.8132147395171537\n",
      "Recall Score of LightGBM Model: 0.7425824631195094\n",
      "Confusion Matric for LightGBM Model\n"
     ]
    },
    {
     "data": {
      "text/plain": [
       "array([[3888, 1029],\n",
       "       [1553, 4480]], dtype=int64)"
      ]
     },
     "execution_count": 35,
     "metadata": {},
     "output_type": "execute_result"
    }
   ],
   "source": [
    "print(f'Accuracy Score of LightGBM Model: {accuracy_score(lgb_pred,test_y)}')\n",
    "\n",
    "print(f'ROC AUC Score of LightGBM Model: {roc_auc_score(lgb_pred,test_y)}')\n",
    "\n",
    "print(f'F1 Score of LightGBM Model: {f1_score(lgb_pred,test_y)}')\n",
    "\n",
    "print(f'Precision Score of LightGBM Model: {precision_score(lgb_pred,test_y)}')\n",
    "\n",
    "print(f'Recall Score of LightGBM Model: {recall_score(lgb_pred,test_y)}')\n",
    "\n",
    "print('Confusion Matric for LightGBM Model')\n",
    "confusion_matrix(lgb_pred,test_y) "
   ]
  },
  {
   "cell_type": "code",
   "execution_count": 36,
   "id": "d9f5f140",
   "metadata": {
    "execution": {
     "iopub.execute_input": "2022-04-02T16:18:11.875256Z",
     "iopub.status.busy": "2022-04-02T16:18:11.874643Z",
     "iopub.status.idle": "2022-04-02T16:18:12.207628Z",
     "shell.execute_reply": "2022-04-02T16:18:12.206955Z",
     "shell.execute_reply.started": "2022-04-02T16:11:29.576317Z"
    },
    "papermill": {
     "duration": 0.38816,
     "end_time": "2022-04-02T16:18:12.207765",
     "exception": false,
     "start_time": "2022-04-02T16:18:11.819605",
     "status": "completed"
    },
    "tags": []
   },
   "outputs": [
    {
     "name": "stderr",
     "output_type": "stream",
     "text": [
      "C:\\Users\\parth\\AppData\\Local\\Programs\\Python\\Python310\\lib\\site-packages\\sklearn\\utils\\deprecation.py:87: FutureWarning: Function plot_confusion_matrix is deprecated; Function `plot_confusion_matrix` is deprecated in 1.0 and will be removed in 1.2. Use one of the class methods: ConfusionMatrixDisplay.from_predictions or ConfusionMatrixDisplay.from_estimator.\n",
      "  warnings.warn(msg, category=FutureWarning)\n"
     ]
    },
    {
     "data": {
      "text/plain": [
       "<sklearn.metrics._plot.confusion_matrix.ConfusionMatrixDisplay at 0x240b390c9d0>"
      ]
     },
     "execution_count": 36,
     "metadata": {},
     "output_type": "execute_result"
    },
    {
     "data": {
      "image/png": "[encoded data removed]",
      "text/plain": [
       "<Figure size 432x288 with 2 Axes>"
      ]
     },
     "metadata": {
      "needs_background": "light"
     },
     "output_type": "display_data"
    }
   ],
   "source": [
    "plot_confusion_matrix(lgb_pipe,test_X,test_y)"
   ]
  },
  {
   "cell_type": "code",
   "execution_count": 37,
   "id": "9f5eb140",
   "metadata": {
    "execution": {
     "iopub.execute_input": "2022-04-02T16:18:12.331171Z",
     "iopub.status.busy": "2022-04-02T16:18:12.329660Z",
     "iopub.status.idle": "2022-04-02T16:18:12.484928Z",
     "shell.execute_reply": "2022-04-02T16:18:12.485547Z",
     "shell.execute_reply.started": "2022-04-02T16:11:37.669763Z"
    },
    "papermill": {
     "duration": 0.225114,
     "end_time": "2022-04-02T16:18:12.485715",
     "exception": false,
     "start_time": "2022-04-02T16:18:12.260601",
     "status": "completed"
    },
    "tags": []
   },
   "outputs": [
    {
     "data": {
      "text/plain": [
       "<AxesSubplot:title={'center':'Countplot of Actual values'}, xlabel='count', ylabel='HeartDisease'>"
      ]
     },
     "execution_count": 37,
     "metadata": {},
     "output_type": "execute_result"
    },
    {
     "data": {
      "image/png": "[encoded data removed]",
      "text/plain": [
       "<Figure size 432x288 with 1 Axes>"
      ]
     },
     "metadata": {
      "needs_background": "light"
     },
     "output_type": "display_data"
    }
   ],
   "source": [
    "plt.title('Countplot of Actual values')\n",
    "sns.countplot(y=test_y)"
   ]
  },
  {
   "cell_type": "code",
   "execution_count": 38,
   "id": "76b7ab35",
   "metadata": {
    "execution": {
     "iopub.execute_input": "2022-04-02T16:18:12.611188Z",
     "iopub.status.busy": "2022-04-02T16:18:12.595121Z",
     "iopub.status.idle": "2022-04-02T16:18:12.761153Z",
     "shell.execute_reply": "2022-04-02T16:18:12.760665Z",
     "shell.execute_reply.started": "2022-04-02T16:17:09.772016Z"
    },
    "papermill": {
     "duration": 0.222389,
     "end_time": "2022-04-02T16:18:12.761282",
     "exception": false,
     "start_time": "2022-04-02T16:18:12.538893",
     "status": "completed"
    },
    "tags": []
   },
   "outputs": [
    {
     "data": {
      "text/plain": [
       "<AxesSubplot:title={'center':'Countplot of Predicted values'}, xlabel='count'>"
      ]
     },
     "execution_count": 38,
     "metadata": {},
     "output_type": "execute_result"
    },
    {
     "data": {
      "image/png": "[encoded data removed]",
      "text/plain": [
       "<Figure size 432x288 with 1 Axes>"
      ]
     },
     "metadata": {
      "needs_background": "light"
     },
     "output_type": "display_data"
    }
   ],
   "source": [
    "plt.title('Countplot of Predicted values')\n",
    "sns.countplot(y=lgb_pred)"
   ]
  },
  {
   "cell_type": "code",
   "execution_count": 39,
   "id": "b49ac643",
   "metadata": {
    "execution": {
     "iopub.execute_input": "2022-04-02T16:18:12.875929Z",
     "iopub.status.busy": "2022-04-02T16:18:12.875281Z",
     "iopub.status.idle": "2022-04-02T16:18:12.933049Z",
     "shell.execute_reply": "2022-04-02T16:18:12.933550Z",
     "shell.execute_reply.started": "2022-04-02T16:14:19.754171Z"
    },
    "papermill": {
     "duration": 0.117445,
     "end_time": "2022-04-02T16:18:12.933714",
     "exception": false,
     "start_time": "2022-04-02T16:18:12.816269",
     "status": "completed"
    },
    "tags": []
   },
   "outputs": [
    {
     "data": {
      "text/plain": [
       "['lgb_model.pkl']"
      ]
     },
     "execution_count": 39,
     "metadata": {},
     "output_type": "execute_result"
    }
   ],
   "source": [
    "joblib.dump(lgb_pipe,'lgb_model.pkl')"
   ]
  },
  {
   "cell_type": "code",
   "execution_count": null,
   "id": "1340dbd2",
   "metadata": {
    "papermill": {
     "duration": 0.054935,
     "end_time": "2022-04-02T16:18:13.044088",
     "exception": false,
     "start_time": "2022-04-02T16:18:12.989153",
     "status": "completed"
    },
    "tags": []
   },
   "outputs": [],
   "source": []
  }
 ],
 "metadata": {
  "kernelspec": {
   "display_name": "Python 3",
   "language": "python",
   "name": "python3"
  },
  "language_info": {
   "codemirror_mode": {
    "name": "ipython",
    "version": 3
   },
   "file_extension": ".py",
   "mimetype": "text/x-python",
   "name": "python",
   "nbconvert_exporter": "python",
   "pygments_lexer": "ipython3",
   "version": "3.10.0"
  },
  "papermill": {
   "default_parameters": {},
   "duration": 33.088064,
   "end_time": "2022-04-02T16:18:13.912518",
   "environment_variables": {},
   "exception": null,
   "input_path": "__notebook__.ipynb",
   "output_path": "__notebook__.ipynb",
   "parameters": {},
   "start_time": "2022-04-02T16:17:40.824454",
   "version": "2.3.3"
  }
 },
 "nbformat": 4,
 "nbformat_minor": 5
}
