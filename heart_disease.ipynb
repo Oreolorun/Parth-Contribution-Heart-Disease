{
  "cells": [
    {
      "cell_type": "markdown",
      "metadata": {
        "colab_type": "text",
        "id": "view-in-github"
      },
      "source": [
        "<a href=\"https://colab.research.google.com/github/ParthGohil21/Heart-Disease-Detection/blob/main/heart_disease.ipynb\" target=\"_parent\"><img src=\"https://colab.research.google.com/assets/colab-badge.svg\" alt=\"Open In Colab\"/></a>"
      ]
    },
    {
      "cell_type": "markdown",
      "metadata": {
        "id": "_jpeamcmBnSx"
      },
      "source": [
        "# Importing Libraries and dataset"
      ]
    },
    {
      "cell_type": "code",
      "execution_count": 13,
      "metadata": {
        "_cell_guid": "b1076dfc-b9ad-4769-8c92-a6c4dae69d19",
        "_uuid": "8f2839f25d086af736a60e9eeb907d3b93b6e0e5",
        "execution": {
          "iopub.execute_input": "2022-04-01T09:55:57.489415Z",
          "iopub.status.busy": "2022-04-01T09:55:57.488942Z",
          "iopub.status.idle": "2022-04-01T09:55:57.504804Z",
          "shell.execute_reply": "2022-04-01T09:55:57.503969Z",
          "shell.execute_reply.started": "2022-04-01T09:55:57.489369Z"
        },
        "id": "1XE8TlWTBnS3",
        "trusted": true
      },
      "outputs": [],
      "source": [
        "import numpy as np \n",
        "import pandas as pd \n",
        "import matplotlib.pyplot as plt\n",
        "import seaborn as sns\n",
        "from imblearn.over_sampling import RandomOverSampler\n",
        "from sklearn.model_selection import train_test_split\n",
        "from sklearn.pipeline import Pipeline\n",
        "from sklearn.compose import ColumnTransformer\n",
        "from sklearn.preprocessing import StandardScaler,OneHotEncoder\n",
        "from sklearn.ensemble import RandomForestClassifier\n",
        "from sklearn.metrics import accuracy_score,roc_auc_score,precision_score,recall_score,f1_score,confusion_matrix,plot_confusion_matrix\n",
        "import joblib  \n",
        "import streamlit as st"
      ]
    },
    {
      "cell_type": "code",
      "execution_count": 2,
      "metadata": {
        "execution": {
          "iopub.execute_input": "2022-04-01T09:56:00.026848Z",
          "iopub.status.busy": "2022-04-01T09:56:00.025635Z",
          "iopub.status.idle": "2022-04-01T09:56:00.966472Z",
          "shell.execute_reply": "2022-04-01T09:56:00.965684Z",
          "shell.execute_reply.started": "2022-04-01T09:56:00.026779Z"
        },
        "id": "FvlqiQ4EBnS6",
        "trusted": true
      },
      "outputs": [],
      "source": [
        "dataset=pd.read_csv(r'heart_2020_cleaned.csv')\n",
        "data=dataset.copy()"
      ]
    },
    {
      "cell_type": "code",
      "execution_count": 3,
      "metadata": {
        "execution": {
          "iopub.execute_input": "2022-04-01T09:18:11.495915Z",
          "iopub.status.busy": "2022-04-01T09:18:11.495543Z",
          "iopub.status.idle": "2022-04-01T09:18:11.500616Z",
          "shell.execute_reply": "2022-04-01T09:18:11.499920Z",
          "shell.execute_reply.started": "2022-04-01T09:18:11.495876Z"
        },
        "id": "-dXU0yN-BnS7",
        "trusted": true
      },
      "outputs": [],
      "source": [
        "pd.set_option('max_column', None)"
      ]
    },
    {
      "cell_type": "markdown",
      "metadata": {
        "id": "OyJt4S8qBnS7"
      },
      "source": [
        "# Data Exploration"
      ]
    },
    {
      "cell_type": "code",
      "execution_count": 4,
      "metadata": {
        "colab": {
          "base_uri": "https://localhost:8080/",
          "height": 810
        },
        "execution": {
          "iopub.execute_input": "2022-04-01T09:18:12.861460Z",
          "iopub.status.busy": "2022-04-01T09:18:12.860909Z",
          "iopub.status.idle": "2022-04-01T09:18:12.897682Z",
          "shell.execute_reply": "2022-04-01T09:18:12.896638Z",
          "shell.execute_reply.started": "2022-04-01T09:18:12.861405Z"
        },
        "id": "oSviYOOuBnS8",
        "outputId": "bd4413f2-6716-4c22-cd6c-d306e2f7f6a0",
        "trusted": true
      },
      "outputs": [
        {
          "data": {
            "text/html": [
              "<div>\n",
              "<style scoped>\n",
              "    .dataframe tbody tr th:only-of-type {\n",
              "        vertical-align: middle;\n",
              "    }\n",
              "\n",
              "    .dataframe tbody tr th {\n",
              "        vertical-align: top;\n",
              "    }\n",
              "\n",
              "    .dataframe thead th {\n",
              "        text-align: right;\n",
              "    }\n",
              "</style>\n",
              "<table border=\"1\" class=\"dataframe\">\n",
              "  <thead>\n",
              "    <tr style=\"text-align: right;\">\n",
              "      <th></th>\n",
              "      <th>HeartDisease</th>\n",
              "      <th>BMI</th>\n",
              "      <th>Smoking</th>\n",
              "      <th>AlcoholDrinking</th>\n",
              "      <th>Stroke</th>\n",
              "      <th>PhysicalHealth</th>\n",
              "      <th>MentalHealth</th>\n",
              "      <th>DiffWalking</th>\n",
              "      <th>Sex</th>\n",
              "      <th>AgeCategory</th>\n",
              "      <th>Race</th>\n",
              "      <th>Diabetic</th>\n",
              "      <th>PhysicalActivity</th>\n",
              "      <th>GenHealth</th>\n",
              "      <th>SleepTime</th>\n",
              "      <th>Asthma</th>\n",
              "      <th>KidneyDisease</th>\n",
              "      <th>SkinCancer</th>\n",
              "    </tr>\n",
              "  </thead>\n",
              "  <tbody>\n",
              "    <tr>\n",
              "      <th>0</th>\n",
              "      <td>No</td>\n",
              "      <td>16.60</td>\n",
              "      <td>Yes</td>\n",
              "      <td>No</td>\n",
              "      <td>No</td>\n",
              "      <td>3.0</td>\n",
              "      <td>30.0</td>\n",
              "      <td>No</td>\n",
              "      <td>Female</td>\n",
              "      <td>55-59</td>\n",
              "      <td>White</td>\n",
              "      <td>Yes</td>\n",
              "      <td>Yes</td>\n",
              "      <td>Very good</td>\n",
              "      <td>5.0</td>\n",
              "      <td>Yes</td>\n",
              "      <td>No</td>\n",
              "      <td>Yes</td>\n",
              "    </tr>\n",
              "    <tr>\n",
              "      <th>1</th>\n",
              "      <td>No</td>\n",
              "      <td>20.34</td>\n",
              "      <td>No</td>\n",
              "      <td>No</td>\n",
              "      <td>Yes</td>\n",
              "      <td>0.0</td>\n",
              "      <td>0.0</td>\n",
              "      <td>No</td>\n",
              "      <td>Female</td>\n",
              "      <td>80 or older</td>\n",
              "      <td>White</td>\n",
              "      <td>No</td>\n",
              "      <td>Yes</td>\n",
              "      <td>Very good</td>\n",
              "      <td>7.0</td>\n",
              "      <td>No</td>\n",
              "      <td>No</td>\n",
              "      <td>No</td>\n",
              "    </tr>\n",
              "    <tr>\n",
              "      <th>2</th>\n",
              "      <td>No</td>\n",
              "      <td>26.58</td>\n",
              "      <td>Yes</td>\n",
              "      <td>No</td>\n",
              "      <td>No</td>\n",
              "      <td>20.0</td>\n",
              "      <td>30.0</td>\n",
              "      <td>No</td>\n",
              "      <td>Male</td>\n",
              "      <td>65-69</td>\n",
              "      <td>White</td>\n",
              "      <td>Yes</td>\n",
              "      <td>Yes</td>\n",
              "      <td>Fair</td>\n",
              "      <td>8.0</td>\n",
              "      <td>Yes</td>\n",
              "      <td>No</td>\n",
              "      <td>No</td>\n",
              "    </tr>\n",
              "    <tr>\n",
              "      <th>3</th>\n",
              "      <td>No</td>\n",
              "      <td>24.21</td>\n",
              "      <td>No</td>\n",
              "      <td>No</td>\n",
              "      <td>No</td>\n",
              "      <td>0.0</td>\n",
              "      <td>0.0</td>\n",
              "      <td>No</td>\n",
              "      <td>Female</td>\n",
              "      <td>75-79</td>\n",
              "      <td>White</td>\n",
              "      <td>No</td>\n",
              "      <td>No</td>\n",
              "      <td>Good</td>\n",
              "      <td>6.0</td>\n",
              "      <td>No</td>\n",
              "      <td>No</td>\n",
              "      <td>Yes</td>\n",
              "    </tr>\n",
              "    <tr>\n",
              "      <th>4</th>\n",
              "      <td>No</td>\n",
              "      <td>23.71</td>\n",
              "      <td>No</td>\n",
              "      <td>No</td>\n",
              "      <td>No</td>\n",
              "      <td>28.0</td>\n",
              "      <td>0.0</td>\n",
              "      <td>Yes</td>\n",
              "      <td>Female</td>\n",
              "      <td>40-44</td>\n",
              "      <td>White</td>\n",
              "      <td>No</td>\n",
              "      <td>Yes</td>\n",
              "      <td>Very good</td>\n",
              "      <td>8.0</td>\n",
              "      <td>No</td>\n",
              "      <td>No</td>\n",
              "      <td>No</td>\n",
              "    </tr>\n",
              "    <tr>\n",
              "      <th>5</th>\n",
              "      <td>Yes</td>\n",
              "      <td>28.87</td>\n",
              "      <td>Yes</td>\n",
              "      <td>No</td>\n",
              "      <td>No</td>\n",
              "      <td>6.0</td>\n",
              "      <td>0.0</td>\n",
              "      <td>Yes</td>\n",
              "      <td>Female</td>\n",
              "      <td>75-79</td>\n",
              "      <td>Black</td>\n",
              "      <td>No</td>\n",
              "      <td>No</td>\n",
              "      <td>Fair</td>\n",
              "      <td>12.0</td>\n",
              "      <td>No</td>\n",
              "      <td>No</td>\n",
              "      <td>No</td>\n",
              "    </tr>\n",
              "    <tr>\n",
              "      <th>6</th>\n",
              "      <td>No</td>\n",
              "      <td>21.63</td>\n",
              "      <td>No</td>\n",
              "      <td>No</td>\n",
              "      <td>No</td>\n",
              "      <td>15.0</td>\n",
              "      <td>0.0</td>\n",
              "      <td>No</td>\n",
              "      <td>Female</td>\n",
              "      <td>70-74</td>\n",
              "      <td>White</td>\n",
              "      <td>No</td>\n",
              "      <td>Yes</td>\n",
              "      <td>Fair</td>\n",
              "      <td>4.0</td>\n",
              "      <td>Yes</td>\n",
              "      <td>No</td>\n",
              "      <td>Yes</td>\n",
              "    </tr>\n",
              "    <tr>\n",
              "      <th>7</th>\n",
              "      <td>No</td>\n",
              "      <td>31.64</td>\n",
              "      <td>Yes</td>\n",
              "      <td>No</td>\n",
              "      <td>No</td>\n",
              "      <td>5.0</td>\n",
              "      <td>0.0</td>\n",
              "      <td>Yes</td>\n",
              "      <td>Female</td>\n",
              "      <td>80 or older</td>\n",
              "      <td>White</td>\n",
              "      <td>Yes</td>\n",
              "      <td>No</td>\n",
              "      <td>Good</td>\n",
              "      <td>9.0</td>\n",
              "      <td>Yes</td>\n",
              "      <td>No</td>\n",
              "      <td>No</td>\n",
              "    </tr>\n",
              "    <tr>\n",
              "      <th>8</th>\n",
              "      <td>No</td>\n",
              "      <td>26.45</td>\n",
              "      <td>No</td>\n",
              "      <td>No</td>\n",
              "      <td>No</td>\n",
              "      <td>0.0</td>\n",
              "      <td>0.0</td>\n",
              "      <td>No</td>\n",
              "      <td>Female</td>\n",
              "      <td>80 or older</td>\n",
              "      <td>White</td>\n",
              "      <td>No, borderline diabetes</td>\n",
              "      <td>No</td>\n",
              "      <td>Fair</td>\n",
              "      <td>5.0</td>\n",
              "      <td>No</td>\n",
              "      <td>Yes</td>\n",
              "      <td>No</td>\n",
              "    </tr>\n",
              "    <tr>\n",
              "      <th>9</th>\n",
              "      <td>No</td>\n",
              "      <td>40.69</td>\n",
              "      <td>No</td>\n",
              "      <td>No</td>\n",
              "      <td>No</td>\n",
              "      <td>0.0</td>\n",
              "      <td>0.0</td>\n",
              "      <td>Yes</td>\n",
              "      <td>Male</td>\n",
              "      <td>65-69</td>\n",
              "      <td>White</td>\n",
              "      <td>No</td>\n",
              "      <td>Yes</td>\n",
              "      <td>Good</td>\n",
              "      <td>10.0</td>\n",
              "      <td>No</td>\n",
              "      <td>No</td>\n",
              "      <td>No</td>\n",
              "    </tr>\n",
              "    <tr>\n",
              "      <th>10</th>\n",
              "      <td>Yes</td>\n",
              "      <td>34.30</td>\n",
              "      <td>Yes</td>\n",
              "      <td>No</td>\n",
              "      <td>No</td>\n",
              "      <td>30.0</td>\n",
              "      <td>0.0</td>\n",
              "      <td>Yes</td>\n",
              "      <td>Male</td>\n",
              "      <td>60-64</td>\n",
              "      <td>White</td>\n",
              "      <td>Yes</td>\n",
              "      <td>No</td>\n",
              "      <td>Poor</td>\n",
              "      <td>15.0</td>\n",
              "      <td>Yes</td>\n",
              "      <td>No</td>\n",
              "      <td>No</td>\n",
              "    </tr>\n",
              "    <tr>\n",
              "      <th>11</th>\n",
              "      <td>No</td>\n",
              "      <td>28.71</td>\n",
              "      <td>Yes</td>\n",
              "      <td>No</td>\n",
              "      <td>No</td>\n",
              "      <td>0.0</td>\n",
              "      <td>0.0</td>\n",
              "      <td>No</td>\n",
              "      <td>Female</td>\n",
              "      <td>55-59</td>\n",
              "      <td>White</td>\n",
              "      <td>No</td>\n",
              "      <td>Yes</td>\n",
              "      <td>Very good</td>\n",
              "      <td>5.0</td>\n",
              "      <td>No</td>\n",
              "      <td>No</td>\n",
              "      <td>No</td>\n",
              "    </tr>\n",
              "    <tr>\n",
              "      <th>12</th>\n",
              "      <td>No</td>\n",
              "      <td>28.37</td>\n",
              "      <td>Yes</td>\n",
              "      <td>No</td>\n",
              "      <td>No</td>\n",
              "      <td>0.0</td>\n",
              "      <td>0.0</td>\n",
              "      <td>Yes</td>\n",
              "      <td>Male</td>\n",
              "      <td>75-79</td>\n",
              "      <td>White</td>\n",
              "      <td>Yes</td>\n",
              "      <td>Yes</td>\n",
              "      <td>Very good</td>\n",
              "      <td>8.0</td>\n",
              "      <td>No</td>\n",
              "      <td>No</td>\n",
              "      <td>No</td>\n",
              "    </tr>\n",
              "    <tr>\n",
              "      <th>13</th>\n",
              "      <td>No</td>\n",
              "      <td>28.15</td>\n",
              "      <td>No</td>\n",
              "      <td>No</td>\n",
              "      <td>No</td>\n",
              "      <td>7.0</td>\n",
              "      <td>0.0</td>\n",
              "      <td>Yes</td>\n",
              "      <td>Female</td>\n",
              "      <td>80 or older</td>\n",
              "      <td>White</td>\n",
              "      <td>No</td>\n",
              "      <td>No</td>\n",
              "      <td>Good</td>\n",
              "      <td>7.0</td>\n",
              "      <td>No</td>\n",
              "      <td>No</td>\n",
              "      <td>No</td>\n",
              "    </tr>\n",
              "    <tr>\n",
              "      <th>14</th>\n",
              "      <td>No</td>\n",
              "      <td>29.29</td>\n",
              "      <td>Yes</td>\n",
              "      <td>No</td>\n",
              "      <td>No</td>\n",
              "      <td>0.0</td>\n",
              "      <td>30.0</td>\n",
              "      <td>Yes</td>\n",
              "      <td>Female</td>\n",
              "      <td>60-64</td>\n",
              "      <td>White</td>\n",
              "      <td>No</td>\n",
              "      <td>No</td>\n",
              "      <td>Good</td>\n",
              "      <td>5.0</td>\n",
              "      <td>No</td>\n",
              "      <td>No</td>\n",
              "      <td>No</td>\n",
              "    </tr>\n",
              "    <tr>\n",
              "      <th>15</th>\n",
              "      <td>No</td>\n",
              "      <td>29.18</td>\n",
              "      <td>No</td>\n",
              "      <td>No</td>\n",
              "      <td>No</td>\n",
              "      <td>1.0</td>\n",
              "      <td>0.0</td>\n",
              "      <td>No</td>\n",
              "      <td>Female</td>\n",
              "      <td>50-54</td>\n",
              "      <td>White</td>\n",
              "      <td>No</td>\n",
              "      <td>Yes</td>\n",
              "      <td>Very good</td>\n",
              "      <td>6.0</td>\n",
              "      <td>No</td>\n",
              "      <td>No</td>\n",
              "      <td>No</td>\n",
              "    </tr>\n",
              "    <tr>\n",
              "      <th>16</th>\n",
              "      <td>No</td>\n",
              "      <td>26.26</td>\n",
              "      <td>No</td>\n",
              "      <td>No</td>\n",
              "      <td>No</td>\n",
              "      <td>5.0</td>\n",
              "      <td>2.0</td>\n",
              "      <td>No</td>\n",
              "      <td>Female</td>\n",
              "      <td>70-74</td>\n",
              "      <td>White</td>\n",
              "      <td>No</td>\n",
              "      <td>No</td>\n",
              "      <td>Very good</td>\n",
              "      <td>10.0</td>\n",
              "      <td>No</td>\n",
              "      <td>No</td>\n",
              "      <td>No</td>\n",
              "    </tr>\n",
              "    <tr>\n",
              "      <th>17</th>\n",
              "      <td>No</td>\n",
              "      <td>22.59</td>\n",
              "      <td>Yes</td>\n",
              "      <td>No</td>\n",
              "      <td>No</td>\n",
              "      <td>0.0</td>\n",
              "      <td>30.0</td>\n",
              "      <td>Yes</td>\n",
              "      <td>Male</td>\n",
              "      <td>70-74</td>\n",
              "      <td>White</td>\n",
              "      <td>No, borderline diabetes</td>\n",
              "      <td>Yes</td>\n",
              "      <td>Good</td>\n",
              "      <td>8.0</td>\n",
              "      <td>No</td>\n",
              "      <td>No</td>\n",
              "      <td>No</td>\n",
              "    </tr>\n",
              "    <tr>\n",
              "      <th>18</th>\n",
              "      <td>No</td>\n",
              "      <td>29.86</td>\n",
              "      <td>Yes</td>\n",
              "      <td>No</td>\n",
              "      <td>No</td>\n",
              "      <td>0.0</td>\n",
              "      <td>0.0</td>\n",
              "      <td>Yes</td>\n",
              "      <td>Female</td>\n",
              "      <td>75-79</td>\n",
              "      <td>Black</td>\n",
              "      <td>Yes</td>\n",
              "      <td>No</td>\n",
              "      <td>Fair</td>\n",
              "      <td>5.0</td>\n",
              "      <td>No</td>\n",
              "      <td>Yes</td>\n",
              "      <td>No</td>\n",
              "    </tr>\n",
              "    <tr>\n",
              "      <th>19</th>\n",
              "      <td>No</td>\n",
              "      <td>18.13</td>\n",
              "      <td>No</td>\n",
              "      <td>No</td>\n",
              "      <td>No</td>\n",
              "      <td>0.0</td>\n",
              "      <td>0.0</td>\n",
              "      <td>No</td>\n",
              "      <td>Male</td>\n",
              "      <td>80 or older</td>\n",
              "      <td>White</td>\n",
              "      <td>No</td>\n",
              "      <td>Yes</td>\n",
              "      <td>Excellent</td>\n",
              "      <td>8.0</td>\n",
              "      <td>No</td>\n",
              "      <td>No</td>\n",
              "      <td>Yes</td>\n",
              "    </tr>\n",
              "  </tbody>\n",
              "</table>\n",
              "</div>"
            ],
            "text/plain": [
              "   HeartDisease    BMI Smoking AlcoholDrinking Stroke  PhysicalHealth  \\\n",
              "0            No  16.60     Yes              No     No             3.0   \n",
              "1            No  20.34      No              No    Yes             0.0   \n",
              "2            No  26.58     Yes              No     No            20.0   \n",
              "3            No  24.21      No              No     No             0.0   \n",
              "4            No  23.71      No              No     No            28.0   \n",
              "5           Yes  28.87     Yes              No     No             6.0   \n",
              "6            No  21.63      No              No     No            15.0   \n",
              "7            No  31.64     Yes              No     No             5.0   \n",
              "8            No  26.45      No              No     No             0.0   \n",
              "9            No  40.69      No              No     No             0.0   \n",
              "10          Yes  34.30     Yes              No     No            30.0   \n",
              "11           No  28.71     Yes              No     No             0.0   \n",
              "12           No  28.37     Yes              No     No             0.0   \n",
              "13           No  28.15      No              No     No             7.0   \n",
              "14           No  29.29     Yes              No     No             0.0   \n",
              "15           No  29.18      No              No     No             1.0   \n",
              "16           No  26.26      No              No     No             5.0   \n",
              "17           No  22.59     Yes              No     No             0.0   \n",
              "18           No  29.86     Yes              No     No             0.0   \n",
              "19           No  18.13      No              No     No             0.0   \n",
              "\n",
              "    MentalHealth DiffWalking     Sex  AgeCategory   Race  \\\n",
              "0           30.0          No  Female        55-59  White   \n",
              "1            0.0          No  Female  80 or older  White   \n",
              "2           30.0          No    Male        65-69  White   \n",
              "3            0.0          No  Female        75-79  White   \n",
              "4            0.0         Yes  Female        40-44  White   \n",
              "5            0.0         Yes  Female        75-79  Black   \n",
              "6            0.0          No  Female        70-74  White   \n",
              "7            0.0         Yes  Female  80 or older  White   \n",
              "8            0.0          No  Female  80 or older  White   \n",
              "9            0.0         Yes    Male        65-69  White   \n",
              "10           0.0         Yes    Male        60-64  White   \n",
              "11           0.0          No  Female        55-59  White   \n",
              "12           0.0         Yes    Male        75-79  White   \n",
              "13           0.0         Yes  Female  80 or older  White   \n",
              "14          30.0         Yes  Female        60-64  White   \n",
              "15           0.0          No  Female        50-54  White   \n",
              "16           2.0          No  Female        70-74  White   \n",
              "17          30.0         Yes    Male        70-74  White   \n",
              "18           0.0         Yes  Female        75-79  Black   \n",
              "19           0.0          No    Male  80 or older  White   \n",
              "\n",
              "                   Diabetic PhysicalActivity  GenHealth  SleepTime Asthma  \\\n",
              "0                       Yes              Yes  Very good        5.0    Yes   \n",
              "1                        No              Yes  Very good        7.0     No   \n",
              "2                       Yes              Yes       Fair        8.0    Yes   \n",
              "3                        No               No       Good        6.0     No   \n",
              "4                        No              Yes  Very good        8.0     No   \n",
              "5                        No               No       Fair       12.0     No   \n",
              "6                        No              Yes       Fair        4.0    Yes   \n",
              "7                       Yes               No       Good        9.0    Yes   \n",
              "8   No, borderline diabetes               No       Fair        5.0     No   \n",
              "9                        No              Yes       Good       10.0     No   \n",
              "10                      Yes               No       Poor       15.0    Yes   \n",
              "11                       No              Yes  Very good        5.0     No   \n",
              "12                      Yes              Yes  Very good        8.0     No   \n",
              "13                       No               No       Good        7.0     No   \n",
              "14                       No               No       Good        5.0     No   \n",
              "15                       No              Yes  Very good        6.0     No   \n",
              "16                       No               No  Very good       10.0     No   \n",
              "17  No, borderline diabetes              Yes       Good        8.0     No   \n",
              "18                      Yes               No       Fair        5.0     No   \n",
              "19                       No              Yes  Excellent        8.0     No   \n",
              "\n",
              "   KidneyDisease SkinCancer  \n",
              "0             No        Yes  \n",
              "1             No         No  \n",
              "2             No         No  \n",
              "3             No        Yes  \n",
              "4             No         No  \n",
              "5             No         No  \n",
              "6             No        Yes  \n",
              "7             No         No  \n",
              "8            Yes         No  \n",
              "9             No         No  \n",
              "10            No         No  \n",
              "11            No         No  \n",
              "12            No         No  \n",
              "13            No         No  \n",
              "14            No         No  \n",
              "15            No         No  \n",
              "16            No         No  \n",
              "17            No         No  \n",
              "18           Yes         No  \n",
              "19            No        Yes  "
            ]
          },
          "execution_count": 4,
          "metadata": {},
          "output_type": "execute_result"
        }
      ],
      "source": [
        "data.head(20)"
      ]
    },
    {
      "cell_type": "code",
      "execution_count": 5,
      "metadata": {
        "colab": {
          "base_uri": "https://localhost:8080/",
          "height": 741
        },
        "execution": {
          "iopub.execute_input": "2022-04-01T09:18:14.355559Z",
          "iopub.status.busy": "2022-04-01T09:18:14.355248Z",
          "iopub.status.idle": "2022-04-01T09:18:14.391048Z",
          "shell.execute_reply": "2022-04-01T09:18:14.389813Z",
          "shell.execute_reply.started": "2022-04-01T09:18:14.355527Z"
        },
        "id": "qTTIVhOhBnS9",
        "outputId": "d5de8450-457f-41be-f54d-feb9abe55720",
        "trusted": true
      },
      "outputs": [
        {
          "data": {
            "text/html": [
              "<div>\n",
              "<style scoped>\n",
              "    .dataframe tbody tr th:only-of-type {\n",
              "        vertical-align: middle;\n",
              "    }\n",
              "\n",
              "    .dataframe tbody tr th {\n",
              "        vertical-align: top;\n",
              "    }\n",
              "\n",
              "    .dataframe thead th {\n",
              "        text-align: right;\n",
              "    }\n",
              "</style>\n",
              "<table border=\"1\" class=\"dataframe\">\n",
              "  <thead>\n",
              "    <tr style=\"text-align: right;\">\n",
              "      <th></th>\n",
              "      <th>HeartDisease</th>\n",
              "      <th>BMI</th>\n",
              "      <th>Smoking</th>\n",
              "      <th>AlcoholDrinking</th>\n",
              "      <th>Stroke</th>\n",
              "      <th>PhysicalHealth</th>\n",
              "      <th>MentalHealth</th>\n",
              "      <th>DiffWalking</th>\n",
              "      <th>Sex</th>\n",
              "      <th>AgeCategory</th>\n",
              "      <th>Race</th>\n",
              "      <th>Diabetic</th>\n",
              "      <th>PhysicalActivity</th>\n",
              "      <th>GenHealth</th>\n",
              "      <th>SleepTime</th>\n",
              "      <th>Asthma</th>\n",
              "      <th>KidneyDisease</th>\n",
              "      <th>SkinCancer</th>\n",
              "    </tr>\n",
              "  </thead>\n",
              "  <tbody>\n",
              "    <tr>\n",
              "      <th>319775</th>\n",
              "      <td>No</td>\n",
              "      <td>24.37</td>\n",
              "      <td>Yes</td>\n",
              "      <td>No</td>\n",
              "      <td>No</td>\n",
              "      <td>0.0</td>\n",
              "      <td>0.0</td>\n",
              "      <td>No</td>\n",
              "      <td>Male</td>\n",
              "      <td>35-39</td>\n",
              "      <td>Hispanic</td>\n",
              "      <td>No</td>\n",
              "      <td>No</td>\n",
              "      <td>Good</td>\n",
              "      <td>8.0</td>\n",
              "      <td>No</td>\n",
              "      <td>No</td>\n",
              "      <td>No</td>\n",
              "    </tr>\n",
              "    <tr>\n",
              "      <th>319776</th>\n",
              "      <td>No</td>\n",
              "      <td>27.98</td>\n",
              "      <td>No</td>\n",
              "      <td>No</td>\n",
              "      <td>No</td>\n",
              "      <td>0.0</td>\n",
              "      <td>0.0</td>\n",
              "      <td>No</td>\n",
              "      <td>Female</td>\n",
              "      <td>50-54</td>\n",
              "      <td>Hispanic</td>\n",
              "      <td>No</td>\n",
              "      <td>No</td>\n",
              "      <td>Good</td>\n",
              "      <td>8.0</td>\n",
              "      <td>No</td>\n",
              "      <td>No</td>\n",
              "      <td>No</td>\n",
              "    </tr>\n",
              "    <tr>\n",
              "      <th>319777</th>\n",
              "      <td>No</td>\n",
              "      <td>42.57</td>\n",
              "      <td>No</td>\n",
              "      <td>No</td>\n",
              "      <td>No</td>\n",
              "      <td>0.0</td>\n",
              "      <td>0.0</td>\n",
              "      <td>Yes</td>\n",
              "      <td>Female</td>\n",
              "      <td>60-64</td>\n",
              "      <td>Hispanic</td>\n",
              "      <td>No</td>\n",
              "      <td>No</td>\n",
              "      <td>Good</td>\n",
              "      <td>7.0</td>\n",
              "      <td>No</td>\n",
              "      <td>No</td>\n",
              "      <td>No</td>\n",
              "    </tr>\n",
              "    <tr>\n",
              "      <th>319778</th>\n",
              "      <td>No</td>\n",
              "      <td>26.63</td>\n",
              "      <td>No</td>\n",
              "      <td>No</td>\n",
              "      <td>No</td>\n",
              "      <td>0.0</td>\n",
              "      <td>0.0</td>\n",
              "      <td>No</td>\n",
              "      <td>Female</td>\n",
              "      <td>25-29</td>\n",
              "      <td>Hispanic</td>\n",
              "      <td>No</td>\n",
              "      <td>No</td>\n",
              "      <td>Very good</td>\n",
              "      <td>8.0</td>\n",
              "      <td>No</td>\n",
              "      <td>No</td>\n",
              "      <td>No</td>\n",
              "    </tr>\n",
              "    <tr>\n",
              "      <th>319779</th>\n",
              "      <td>No</td>\n",
              "      <td>23.38</td>\n",
              "      <td>Yes</td>\n",
              "      <td>No</td>\n",
              "      <td>No</td>\n",
              "      <td>30.0</td>\n",
              "      <td>0.0</td>\n",
              "      <td>Yes</td>\n",
              "      <td>Female</td>\n",
              "      <td>70-74</td>\n",
              "      <td>Hispanic</td>\n",
              "      <td>No</td>\n",
              "      <td>Yes</td>\n",
              "      <td>Fair</td>\n",
              "      <td>5.0</td>\n",
              "      <td>No</td>\n",
              "      <td>No</td>\n",
              "      <td>No</td>\n",
              "    </tr>\n",
              "    <tr>\n",
              "      <th>319780</th>\n",
              "      <td>No</td>\n",
              "      <td>30.67</td>\n",
              "      <td>No</td>\n",
              "      <td>No</td>\n",
              "      <td>No</td>\n",
              "      <td>0.0</td>\n",
              "      <td>8.0</td>\n",
              "      <td>No</td>\n",
              "      <td>Female</td>\n",
              "      <td>25-29</td>\n",
              "      <td>Hispanic</td>\n",
              "      <td>No</td>\n",
              "      <td>Yes</td>\n",
              "      <td>Very good</td>\n",
              "      <td>7.0</td>\n",
              "      <td>No</td>\n",
              "      <td>No</td>\n",
              "      <td>No</td>\n",
              "    </tr>\n",
              "    <tr>\n",
              "      <th>319781</th>\n",
              "      <td>Yes</td>\n",
              "      <td>37.12</td>\n",
              "      <td>Yes</td>\n",
              "      <td>No</td>\n",
              "      <td>No</td>\n",
              "      <td>0.0</td>\n",
              "      <td>0.0</td>\n",
              "      <td>No</td>\n",
              "      <td>Male</td>\n",
              "      <td>35-39</td>\n",
              "      <td>Hispanic</td>\n",
              "      <td>No</td>\n",
              "      <td>Yes</td>\n",
              "      <td>Very good</td>\n",
              "      <td>7.0</td>\n",
              "      <td>No</td>\n",
              "      <td>No</td>\n",
              "      <td>No</td>\n",
              "    </tr>\n",
              "    <tr>\n",
              "      <th>319782</th>\n",
              "      <td>No</td>\n",
              "      <td>31.89</td>\n",
              "      <td>Yes</td>\n",
              "      <td>No</td>\n",
              "      <td>No</td>\n",
              "      <td>30.0</td>\n",
              "      <td>30.0</td>\n",
              "      <td>Yes</td>\n",
              "      <td>Female</td>\n",
              "      <td>55-59</td>\n",
              "      <td>Hispanic</td>\n",
              "      <td>No</td>\n",
              "      <td>No</td>\n",
              "      <td>Fair</td>\n",
              "      <td>4.0</td>\n",
              "      <td>No</td>\n",
              "      <td>No</td>\n",
              "      <td>No</td>\n",
              "    </tr>\n",
              "    <tr>\n",
              "      <th>319783</th>\n",
              "      <td>No</td>\n",
              "      <td>33.28</td>\n",
              "      <td>No</td>\n",
              "      <td>No</td>\n",
              "      <td>No</td>\n",
              "      <td>0.0</td>\n",
              "      <td>0.0</td>\n",
              "      <td>No</td>\n",
              "      <td>Female</td>\n",
              "      <td>30-34</td>\n",
              "      <td>Hispanic</td>\n",
              "      <td>No</td>\n",
              "      <td>Yes</td>\n",
              "      <td>Excellent</td>\n",
              "      <td>8.0</td>\n",
              "      <td>No</td>\n",
              "      <td>No</td>\n",
              "      <td>No</td>\n",
              "    </tr>\n",
              "    <tr>\n",
              "      <th>319784</th>\n",
              "      <td>No</td>\n",
              "      <td>26.58</td>\n",
              "      <td>Yes</td>\n",
              "      <td>No</td>\n",
              "      <td>No</td>\n",
              "      <td>0.0</td>\n",
              "      <td>0.0</td>\n",
              "      <td>Yes</td>\n",
              "      <td>Male</td>\n",
              "      <td>75-79</td>\n",
              "      <td>Hispanic</td>\n",
              "      <td>No</td>\n",
              "      <td>Yes</td>\n",
              "      <td>Good</td>\n",
              "      <td>6.0</td>\n",
              "      <td>No</td>\n",
              "      <td>No</td>\n",
              "      <td>No</td>\n",
              "    </tr>\n",
              "    <tr>\n",
              "      <th>319785</th>\n",
              "      <td>No</td>\n",
              "      <td>31.93</td>\n",
              "      <td>No</td>\n",
              "      <td>Yes</td>\n",
              "      <td>No</td>\n",
              "      <td>0.0</td>\n",
              "      <td>0.0</td>\n",
              "      <td>No</td>\n",
              "      <td>Male</td>\n",
              "      <td>65-69</td>\n",
              "      <td>Hispanic</td>\n",
              "      <td>No</td>\n",
              "      <td>Yes</td>\n",
              "      <td>Good</td>\n",
              "      <td>7.0</td>\n",
              "      <td>No</td>\n",
              "      <td>No</td>\n",
              "      <td>No</td>\n",
              "    </tr>\n",
              "    <tr>\n",
              "      <th>319786</th>\n",
              "      <td>Yes</td>\n",
              "      <td>33.20</td>\n",
              "      <td>Yes</td>\n",
              "      <td>No</td>\n",
              "      <td>No</td>\n",
              "      <td>0.0</td>\n",
              "      <td>0.0</td>\n",
              "      <td>No</td>\n",
              "      <td>Female</td>\n",
              "      <td>60-64</td>\n",
              "      <td>Hispanic</td>\n",
              "      <td>Yes</td>\n",
              "      <td>Yes</td>\n",
              "      <td>Very good</td>\n",
              "      <td>8.0</td>\n",
              "      <td>Yes</td>\n",
              "      <td>No</td>\n",
              "      <td>No</td>\n",
              "    </tr>\n",
              "    <tr>\n",
              "      <th>319787</th>\n",
              "      <td>No</td>\n",
              "      <td>36.54</td>\n",
              "      <td>No</td>\n",
              "      <td>No</td>\n",
              "      <td>No</td>\n",
              "      <td>7.0</td>\n",
              "      <td>0.0</td>\n",
              "      <td>No</td>\n",
              "      <td>Male</td>\n",
              "      <td>30-34</td>\n",
              "      <td>Hispanic</td>\n",
              "      <td>No</td>\n",
              "      <td>No</td>\n",
              "      <td>Good</td>\n",
              "      <td>9.0</td>\n",
              "      <td>No</td>\n",
              "      <td>No</td>\n",
              "      <td>No</td>\n",
              "    </tr>\n",
              "    <tr>\n",
              "      <th>319788</th>\n",
              "      <td>No</td>\n",
              "      <td>23.38</td>\n",
              "      <td>No</td>\n",
              "      <td>No</td>\n",
              "      <td>No</td>\n",
              "      <td>0.0</td>\n",
              "      <td>0.0</td>\n",
              "      <td>No</td>\n",
              "      <td>Female</td>\n",
              "      <td>60-64</td>\n",
              "      <td>Hispanic</td>\n",
              "      <td>No</td>\n",
              "      <td>Yes</td>\n",
              "      <td>Excellent</td>\n",
              "      <td>6.0</td>\n",
              "      <td>No</td>\n",
              "      <td>No</td>\n",
              "      <td>No</td>\n",
              "    </tr>\n",
              "    <tr>\n",
              "      <th>319789</th>\n",
              "      <td>No</td>\n",
              "      <td>22.22</td>\n",
              "      <td>No</td>\n",
              "      <td>No</td>\n",
              "      <td>No</td>\n",
              "      <td>0.0</td>\n",
              "      <td>0.0</td>\n",
              "      <td>No</td>\n",
              "      <td>Female</td>\n",
              "      <td>18-24</td>\n",
              "      <td>Hispanic</td>\n",
              "      <td>No</td>\n",
              "      <td>Yes</td>\n",
              "      <td>Excellent</td>\n",
              "      <td>8.0</td>\n",
              "      <td>No</td>\n",
              "      <td>No</td>\n",
              "      <td>No</td>\n",
              "    </tr>\n",
              "    <tr>\n",
              "      <th>319790</th>\n",
              "      <td>Yes</td>\n",
              "      <td>27.41</td>\n",
              "      <td>Yes</td>\n",
              "      <td>No</td>\n",
              "      <td>No</td>\n",
              "      <td>7.0</td>\n",
              "      <td>0.0</td>\n",
              "      <td>Yes</td>\n",
              "      <td>Male</td>\n",
              "      <td>60-64</td>\n",
              "      <td>Hispanic</td>\n",
              "      <td>Yes</td>\n",
              "      <td>No</td>\n",
              "      <td>Fair</td>\n",
              "      <td>6.0</td>\n",
              "      <td>Yes</td>\n",
              "      <td>No</td>\n",
              "      <td>No</td>\n",
              "    </tr>\n",
              "    <tr>\n",
              "      <th>319791</th>\n",
              "      <td>No</td>\n",
              "      <td>29.84</td>\n",
              "      <td>Yes</td>\n",
              "      <td>No</td>\n",
              "      <td>No</td>\n",
              "      <td>0.0</td>\n",
              "      <td>0.0</td>\n",
              "      <td>No</td>\n",
              "      <td>Male</td>\n",
              "      <td>35-39</td>\n",
              "      <td>Hispanic</td>\n",
              "      <td>No</td>\n",
              "      <td>Yes</td>\n",
              "      <td>Very good</td>\n",
              "      <td>5.0</td>\n",
              "      <td>Yes</td>\n",
              "      <td>No</td>\n",
              "      <td>No</td>\n",
              "    </tr>\n",
              "    <tr>\n",
              "      <th>319792</th>\n",
              "      <td>No</td>\n",
              "      <td>24.24</td>\n",
              "      <td>No</td>\n",
              "      <td>No</td>\n",
              "      <td>No</td>\n",
              "      <td>0.0</td>\n",
              "      <td>0.0</td>\n",
              "      <td>No</td>\n",
              "      <td>Female</td>\n",
              "      <td>45-49</td>\n",
              "      <td>Hispanic</td>\n",
              "      <td>No</td>\n",
              "      <td>Yes</td>\n",
              "      <td>Good</td>\n",
              "      <td>6.0</td>\n",
              "      <td>No</td>\n",
              "      <td>No</td>\n",
              "      <td>No</td>\n",
              "    </tr>\n",
              "    <tr>\n",
              "      <th>319793</th>\n",
              "      <td>No</td>\n",
              "      <td>32.81</td>\n",
              "      <td>No</td>\n",
              "      <td>No</td>\n",
              "      <td>No</td>\n",
              "      <td>0.0</td>\n",
              "      <td>0.0</td>\n",
              "      <td>No</td>\n",
              "      <td>Female</td>\n",
              "      <td>25-29</td>\n",
              "      <td>Hispanic</td>\n",
              "      <td>No</td>\n",
              "      <td>No</td>\n",
              "      <td>Good</td>\n",
              "      <td>12.0</td>\n",
              "      <td>No</td>\n",
              "      <td>No</td>\n",
              "      <td>No</td>\n",
              "    </tr>\n",
              "    <tr>\n",
              "      <th>319794</th>\n",
              "      <td>No</td>\n",
              "      <td>46.56</td>\n",
              "      <td>No</td>\n",
              "      <td>No</td>\n",
              "      <td>No</td>\n",
              "      <td>0.0</td>\n",
              "      <td>0.0</td>\n",
              "      <td>No</td>\n",
              "      <td>Female</td>\n",
              "      <td>80 or older</td>\n",
              "      <td>Hispanic</td>\n",
              "      <td>No</td>\n",
              "      <td>Yes</td>\n",
              "      <td>Good</td>\n",
              "      <td>8.0</td>\n",
              "      <td>No</td>\n",
              "      <td>No</td>\n",
              "      <td>No</td>\n",
              "    </tr>\n",
              "  </tbody>\n",
              "</table>\n",
              "</div>"
            ],
            "text/plain": [
              "       HeartDisease    BMI Smoking AlcoholDrinking Stroke  PhysicalHealth  \\\n",
              "319775           No  24.37     Yes              No     No             0.0   \n",
              "319776           No  27.98      No              No     No             0.0   \n",
              "319777           No  42.57      No              No     No             0.0   \n",
              "319778           No  26.63      No              No     No             0.0   \n",
              "319779           No  23.38     Yes              No     No            30.0   \n",
              "319780           No  30.67      No              No     No             0.0   \n",
              "319781          Yes  37.12     Yes              No     No             0.0   \n",
              "319782           No  31.89     Yes              No     No            30.0   \n",
              "319783           No  33.28      No              No     No             0.0   \n",
              "319784           No  26.58     Yes              No     No             0.0   \n",
              "319785           No  31.93      No             Yes     No             0.0   \n",
              "319786          Yes  33.20     Yes              No     No             0.0   \n",
              "319787           No  36.54      No              No     No             7.0   \n",
              "319788           No  23.38      No              No     No             0.0   \n",
              "319789           No  22.22      No              No     No             0.0   \n",
              "319790          Yes  27.41     Yes              No     No             7.0   \n",
              "319791           No  29.84     Yes              No     No             0.0   \n",
              "319792           No  24.24      No              No     No             0.0   \n",
              "319793           No  32.81      No              No     No             0.0   \n",
              "319794           No  46.56      No              No     No             0.0   \n",
              "\n",
              "        MentalHealth DiffWalking     Sex  AgeCategory      Race Diabetic  \\\n",
              "319775           0.0          No    Male        35-39  Hispanic       No   \n",
              "319776           0.0          No  Female        50-54  Hispanic       No   \n",
              "319777           0.0         Yes  Female        60-64  Hispanic       No   \n",
              "319778           0.0          No  Female        25-29  Hispanic       No   \n",
              "319779           0.0         Yes  Female        70-74  Hispanic       No   \n",
              "319780           8.0          No  Female        25-29  Hispanic       No   \n",
              "319781           0.0          No    Male        35-39  Hispanic       No   \n",
              "319782          30.0         Yes  Female        55-59  Hispanic       No   \n",
              "319783           0.0          No  Female        30-34  Hispanic       No   \n",
              "319784           0.0         Yes    Male        75-79  Hispanic       No   \n",
              "319785           0.0          No    Male        65-69  Hispanic       No   \n",
              "319786           0.0          No  Female        60-64  Hispanic      Yes   \n",
              "319787           0.0          No    Male        30-34  Hispanic       No   \n",
              "319788           0.0          No  Female        60-64  Hispanic       No   \n",
              "319789           0.0          No  Female        18-24  Hispanic       No   \n",
              "319790           0.0         Yes    Male        60-64  Hispanic      Yes   \n",
              "319791           0.0          No    Male        35-39  Hispanic       No   \n",
              "319792           0.0          No  Female        45-49  Hispanic       No   \n",
              "319793           0.0          No  Female        25-29  Hispanic       No   \n",
              "319794           0.0          No  Female  80 or older  Hispanic       No   \n",
              "\n",
              "       PhysicalActivity  GenHealth  SleepTime Asthma KidneyDisease SkinCancer  \n",
              "319775               No       Good        8.0     No            No         No  \n",
              "319776               No       Good        8.0     No            No         No  \n",
              "319777               No       Good        7.0     No            No         No  \n",
              "319778               No  Very good        8.0     No            No         No  \n",
              "319779              Yes       Fair        5.0     No            No         No  \n",
              "319780              Yes  Very good        7.0     No            No         No  \n",
              "319781              Yes  Very good        7.0     No            No         No  \n",
              "319782               No       Fair        4.0     No            No         No  \n",
              "319783              Yes  Excellent        8.0     No            No         No  \n",
              "319784              Yes       Good        6.0     No            No         No  \n",
              "319785              Yes       Good        7.0     No            No         No  \n",
              "319786              Yes  Very good        8.0    Yes            No         No  \n",
              "319787               No       Good        9.0     No            No         No  \n",
              "319788              Yes  Excellent        6.0     No            No         No  \n",
              "319789              Yes  Excellent        8.0     No            No         No  \n",
              "319790               No       Fair        6.0    Yes            No         No  \n",
              "319791              Yes  Very good        5.0    Yes            No         No  \n",
              "319792              Yes       Good        6.0     No            No         No  \n",
              "319793               No       Good       12.0     No            No         No  \n",
              "319794              Yes       Good        8.0     No            No         No  "
            ]
          },
          "execution_count": 5,
          "metadata": {},
          "output_type": "execute_result"
        }
      ],
      "source": [
        "data.tail(20)"
      ]
    },
    {
      "cell_type": "code",
      "execution_count": 6,
      "metadata": {
        "colab": {
          "base_uri": "https://localhost:8080/"
        },
        "execution": {
          "iopub.execute_input": "2022-04-01T09:18:15.444571Z",
          "iopub.status.busy": "2022-04-01T09:18:15.444255Z",
          "iopub.status.idle": "2022-04-01T09:18:15.450948Z",
          "shell.execute_reply": "2022-04-01T09:18:15.450047Z",
          "shell.execute_reply.started": "2022-04-01T09:18:15.444538Z"
        },
        "id": "DwzUDKnjBnS-",
        "outputId": "e3be3ea3-0d73-4a9e-e718-d15cbc20e9e8",
        "trusted": true
      },
      "outputs": [
        {
          "data": {
            "text/plain": [
              "(319795, 18)"
            ]
          },
          "execution_count": 6,
          "metadata": {},
          "output_type": "execute_result"
        }
      ],
      "source": [
        "data.shape"
      ]
    },
    {
      "cell_type": "code",
      "execution_count": 7,
      "metadata": {
        "colab": {
          "base_uri": "https://localhost:8080/"
        },
        "execution": {
          "iopub.execute_input": "2022-04-01T09:18:16.302360Z",
          "iopub.status.busy": "2022-04-01T09:18:16.301576Z",
          "iopub.status.idle": "2022-04-01T09:18:16.792703Z",
          "shell.execute_reply": "2022-04-01T09:18:16.791590Z",
          "shell.execute_reply.started": "2022-04-01T09:18:16.302317Z"
        },
        "id": "sdHtySBIBnS_",
        "outputId": "713aecf4-d8b3-4ff2-ea25-9ffe82611a5e",
        "trusted": true
      },
      "outputs": [
        {
          "name": "stdout",
          "output_type": "stream",
          "text": [
            "<class 'pandas.core.frame.DataFrame'>\n",
            "RangeIndex: 319795 entries, 0 to 319794\n",
            "Data columns (total 18 columns):\n",
            " #   Column            Non-Null Count   Dtype  \n",
            "---  ------            --------------   -----  \n",
            " 0   HeartDisease      319795 non-null  object \n",
            " 1   BMI               319795 non-null  float64\n",
            " 2   Smoking           319795 non-null  object \n",
            " 3   AlcoholDrinking   319795 non-null  object \n",
            " 4   Stroke            319795 non-null  object \n",
            " 5   PhysicalHealth    319795 non-null  float64\n",
            " 6   MentalHealth      319795 non-null  float64\n",
            " 7   DiffWalking       319795 non-null  object \n",
            " 8   Sex               319795 non-null  object \n",
            " 9   AgeCategory       319795 non-null  object \n",
            " 10  Race              319795 non-null  object \n",
            " 11  Diabetic          319795 non-null  object \n",
            " 12  PhysicalActivity  319795 non-null  object \n",
            " 13  GenHealth         319795 non-null  object \n",
            " 14  SleepTime         319795 non-null  float64\n",
            " 15  Asthma            319795 non-null  object \n",
            " 16  KidneyDisease     319795 non-null  object \n",
            " 17  SkinCancer        319795 non-null  object \n",
            "dtypes: float64(4), object(14)\n",
            "memory usage: 43.9+ MB\n"
          ]
        }
      ],
      "source": [
        "data.info()"
      ]
    },
    {
      "cell_type": "code",
      "execution_count": 8,
      "metadata": {
        "colab": {
          "base_uri": "https://localhost:8080/"
        },
        "execution": {
          "iopub.execute_input": "2022-04-01T09:18:17.235683Z",
          "iopub.status.busy": "2022-04-01T09:18:17.235363Z",
          "iopub.status.idle": "2022-04-01T09:18:17.575648Z",
          "shell.execute_reply": "2022-04-01T09:18:17.574659Z",
          "shell.execute_reply.started": "2022-04-01T09:18:17.235650Z"
        },
        "id": "1aH-OC2LBnTC",
        "outputId": "b9d3020d-4235-49ac-ce8d-dfd0c181587e",
        "trusted": true
      },
      "outputs": [
        {
          "data": {
            "text/plain": [
              "HeartDisease           2\n",
              "BMI                 3604\n",
              "Smoking                2\n",
              "AlcoholDrinking        2\n",
              "Stroke                 2\n",
              "PhysicalHealth        31\n",
              "MentalHealth          31\n",
              "DiffWalking            2\n",
              "Sex                    2\n",
              "AgeCategory           13\n",
              "Race                   6\n",
              "Diabetic               4\n",
              "PhysicalActivity       2\n",
              "GenHealth              5\n",
              "SleepTime             24\n",
              "Asthma                 2\n",
              "KidneyDisease          2\n",
              "SkinCancer             2\n",
              "dtype: int64"
            ]
          },
          "execution_count": 8,
          "metadata": {},
          "output_type": "execute_result"
        }
      ],
      "source": [
        "data.nunique()"
      ]
    },
    {
      "cell_type": "code",
      "execution_count": 9,
      "metadata": {
        "colab": {
          "base_uri": "https://localhost:8080/",
          "height": 175
        },
        "execution": {
          "iopub.execute_input": "2022-04-01T09:18:18.186638Z",
          "iopub.status.busy": "2022-04-01T09:18:18.185922Z",
          "iopub.status.idle": "2022-04-01T09:18:18.264216Z",
          "shell.execute_reply": "2022-04-01T09:18:18.263213Z",
          "shell.execute_reply.started": "2022-04-01T09:18:18.186600Z"
        },
        "id": "LWtp7nrCBnTD",
        "outputId": "a5688cd2-ff30-4532-f0df-772b97b35b82",
        "trusted": true
      },
      "outputs": [
        {
          "data": {
            "text/html": [
              "<div>\n",
              "<style scoped>\n",
              "    .dataframe tbody tr th:only-of-type {\n",
              "        vertical-align: middle;\n",
              "    }\n",
              "\n",
              "    .dataframe tbody tr th {\n",
              "        vertical-align: top;\n",
              "    }\n",
              "\n",
              "    .dataframe thead th {\n",
              "        text-align: right;\n",
              "    }\n",
              "</style>\n",
              "<table border=\"1\" class=\"dataframe\">\n",
              "  <thead>\n",
              "    <tr style=\"text-align: right;\">\n",
              "      <th></th>\n",
              "      <th>count</th>\n",
              "      <th>mean</th>\n",
              "      <th>std</th>\n",
              "      <th>min</th>\n",
              "      <th>25%</th>\n",
              "      <th>50%</th>\n",
              "      <th>75%</th>\n",
              "      <th>max</th>\n",
              "    </tr>\n",
              "  </thead>\n",
              "  <tbody>\n",
              "    <tr>\n",
              "      <th>BMI</th>\n",
              "      <td>319795.0</td>\n",
              "      <td>28.325399</td>\n",
              "      <td>6.356100</td>\n",
              "      <td>12.02</td>\n",
              "      <td>24.03</td>\n",
              "      <td>27.34</td>\n",
              "      <td>31.42</td>\n",
              "      <td>94.85</td>\n",
              "    </tr>\n",
              "    <tr>\n",
              "      <th>PhysicalHealth</th>\n",
              "      <td>319795.0</td>\n",
              "      <td>3.371710</td>\n",
              "      <td>7.950850</td>\n",
              "      <td>0.00</td>\n",
              "      <td>0.00</td>\n",
              "      <td>0.00</td>\n",
              "      <td>2.00</td>\n",
              "      <td>30.00</td>\n",
              "    </tr>\n",
              "    <tr>\n",
              "      <th>MentalHealth</th>\n",
              "      <td>319795.0</td>\n",
              "      <td>3.898366</td>\n",
              "      <td>7.955235</td>\n",
              "      <td>0.00</td>\n",
              "      <td>0.00</td>\n",
              "      <td>0.00</td>\n",
              "      <td>3.00</td>\n",
              "      <td>30.00</td>\n",
              "    </tr>\n",
              "    <tr>\n",
              "      <th>SleepTime</th>\n",
              "      <td>319795.0</td>\n",
              "      <td>7.097075</td>\n",
              "      <td>1.436007</td>\n",
              "      <td>1.00</td>\n",
              "      <td>6.00</td>\n",
              "      <td>7.00</td>\n",
              "      <td>8.00</td>\n",
              "      <td>24.00</td>\n",
              "    </tr>\n",
              "  </tbody>\n",
              "</table>\n",
              "</div>"
            ],
            "text/plain": [
              "                   count       mean       std    min    25%    50%    75%  \\\n",
              "BMI             319795.0  28.325399  6.356100  12.02  24.03  27.34  31.42   \n",
              "PhysicalHealth  319795.0   3.371710  7.950850   0.00   0.00   0.00   2.00   \n",
              "MentalHealth    319795.0   3.898366  7.955235   0.00   0.00   0.00   3.00   \n",
              "SleepTime       319795.0   7.097075  1.436007   1.00   6.00   7.00   8.00   \n",
              "\n",
              "                  max  \n",
              "BMI             94.85  \n",
              "PhysicalHealth  30.00  \n",
              "MentalHealth    30.00  \n",
              "SleepTime       24.00  "
            ]
          },
          "execution_count": 9,
          "metadata": {},
          "output_type": "execute_result"
        }
      ],
      "source": [
        "data.describe().T"
      ]
    },
    {
      "cell_type": "markdown",
      "metadata": {
        "id": "erBxqQScBnTD"
      },
      "source": [
        "## Data Description \n",
        "       \n",
        "1. HeartDisease :Respondents that have ever reported having coronary heart disease (CHD) or myocardial infarction (MI)\n",
        "      \n",
        "2. BMI: Body Mass Index (BMI)\n",
        "3. Smoking: Have you smoked at least 100 cigarettes in your entire life? [Note: 5 packs = 100 cigarettes]\n",
        "4. AlcoholDrinking: Heavy drinkers (adult men having more than 14 drinks per week and adult women having more than 7 drinks per week\n",
        "5. Stroke: (Ever told) (you had) a stroke?\n",
        "6. PhysicalHealth: Now thinking about your physical health, which includes physical illness and injury, for how many days during the past 30\n",
        "7. MentalHealth: Thinking about your mental health, for how many days during the past 30 days was your mental health not good?\n",
        "8. DiffWalking: Do you have serious difficulty walking or climbing stairs?\n",
        "9. Sex: Are you male or female?\n",
        "10.AgeCategory: Fourteen-level age category\n",
        "11.Race: Imputed race/ethnicity value\n",
        "12.Diabetic: (Ever told) (you had) diabetes?\n",
        "13.PhysicalActivity: Adults who reported doing physical activity or exercise during the past 30 days other than their regular job\n",
        "14.GenHealth: Would you say that in general your health is..\n",
        "15.SleepTime: On average, how many hours of sleep do you get in a 24-hour period?\n",
        "16.Asthma:(Ever told) (you had) asthma?\n",
        "17.KidneyDisease: Not including kidney stones, bladder infection or incontinence, were you ever told you had kidney disease?\n",
        "18.SkinCancer : (Ever told) (you had) skin cancer?"
      ]
    },
    {
      "cell_type": "markdown",
      "metadata": {
        "id": "YQZml2ntBnTF"
      },
      "source": [
        "# Data Visualization "
      ]
    },
    {
      "cell_type": "code",
      "execution_count": 10,
      "metadata": {
        "colab": {
          "base_uri": "https://localhost:8080/",
          "height": 265
        },
        "execution": {
          "iopub.execute_input": "2022-04-01T09:18:20.683489Z",
          "iopub.status.busy": "2022-04-01T09:18:20.682505Z",
          "iopub.status.idle": "2022-04-01T09:18:20.846093Z",
          "shell.execute_reply": "2022-04-01T09:18:20.845107Z",
          "shell.execute_reply.started": "2022-04-01T09:18:20.683442Z"
        },
        "id": "6oRv1QcfBnTF",
        "outputId": "6fdbc19f-6207-430c-ce84-2fd28073b54d",
        "trusted": true
      },
      "outputs": [
        {
          "data": {
            "text/plain": [
              "<AxesSubplot:ylabel='HeartDisease'>"
            ]
          },
          "execution_count": 10,
          "metadata": {},
          "output_type": "execute_result"
        },
        {
          "data": {
            "image/png": "[encoded data removed]",
            "text/plain": [
              "<Figure size 432x288 with 1 Axes>"
            ]
          },
          "metadata": {},
          "output_type": "display_data"
        }
      ],
      "source": [
        "data.HeartDisease.value_counts().plot.pie(autopct='.%2f')"
      ]
    },
    {
      "cell_type": "code",
      "execution_count": 11,
      "metadata": {
        "colab": {
          "base_uri": "https://localhost:8080/",
          "height": 297
        },
        "execution": {
          "iopub.execute_input": "2022-04-01T07:48:14.824832Z",
          "iopub.status.busy": "2022-04-01T07:48:14.823744Z",
          "iopub.status.idle": "2022-04-01T07:48:15.409868Z",
          "shell.execute_reply": "2022-04-01T07:48:15.408786Z",
          "shell.execute_reply.started": "2022-04-01T07:48:14.824758Z"
        },
        "id": "VddAUiNjBnTG",
        "outputId": "f7b8b322-5429-490f-831a-f885e06e6b3d",
        "trusted": true
      },
      "outputs": [
        {
          "data": {
            "text/plain": [
              "<AxesSubplot:xlabel='count', ylabel='HeartDisease'>"
            ]
          },
          "execution_count": 11,
          "metadata": {},
          "output_type": "execute_result"
        },
        {
          "data": {
            "image/png": "[encoded data removed]",
            "text/plain": [
              "<Figure size 432x288 with 1 Axes>"
            ]
          },
          "metadata": {
            "needs_background": "light"
          },
          "output_type": "display_data"
        }
      ],
      "source": [
        "sns.countplot(y=data.HeartDisease)"
      ]
    },
    {
      "cell_type": "code",
      "execution_count": 12,
      "metadata": {
        "colab": {
          "base_uri": "https://localhost:8080/"
        },
        "execution": {
          "iopub.execute_input": "2022-04-01T07:48:15.411416Z",
          "iopub.status.busy": "2022-04-01T07:48:15.411131Z",
          "iopub.status.idle": "2022-04-01T07:48:15.755703Z",
          "shell.execute_reply": "2022-04-01T07:48:15.754812Z",
          "shell.execute_reply.started": "2022-04-01T07:48:15.411341Z"
        },
        "id": "4_C-rCcgBnTG",
        "outputId": "cc0eeb82-2bf6-4551-f85b-74f4dfc16a5d",
        "trusted": true
      },
      "outputs": [
        {
          "data": {
            "text/plain": [
              "14"
            ]
          },
          "execution_count": 12,
          "metadata": {},
          "output_type": "execute_result"
        }
      ],
      "source": [
        "low_cardinality_cols=[col for col in data.columns if data[col].nunique()<=13]\n",
        "len(low_cardinality_cols)\n"
      ]
    },
    {
      "cell_type": "code",
      "execution_count": 13,
      "metadata": {
        "colab": {
          "base_uri": "https://localhost:8080/",
          "height": 1000
        },
        "execution": {
          "iopub.execute_input": "2022-04-01T07:48:15.759436Z",
          "iopub.status.busy": "2022-04-01T07:48:15.759123Z",
          "iopub.status.idle": "2022-04-01T07:48:24.724891Z",
          "shell.execute_reply": "2022-04-01T07:48:24.724169Z",
          "shell.execute_reply.started": "2022-04-01T07:48:15.759402Z"
        },
        "id": "GGDfZ8eGBnTG",
        "outputId": "6f8b917a-c67a-4fb8-f564-443b81712e6e",
        "trusted": true
      },
      "outputs": [
        {
          "data": {
            "image/png": "[encoded data removed]",
            "text/plain": [
              "<Figure size 432x288 with 1 Axes>"
            ]
          },
          "metadata": {
            "needs_background": "light"
          },
          "output_type": "display_data"
        },
        {
          "data": {
            "image/png": "[encoded data removed]",
            "text/plain": [
              "<Figure size 432x288 with 1 Axes>"
            ]
          },
          "metadata": {
            "needs_background": "light"
          },
          "output_type": "display_data"
        },
        {
          "data": {
            "image/png": "[encoded data removed]",
            "text/plain": [
              "<Figure size 432x288 with 1 Axes>"
            ]
          },
          "metadata": {
            "needs_background": "light"
          },
          "output_type": "display_data"
        },
        {
          "data": {
            "image/png": "[encoded data removed]",
            "text/plain": [
              "<Figure size 432x288 with 1 Axes>"
            ]
          },
          "metadata": {
            "needs_background": "light"
          },
          "output_type": "display_data"
        },
        {
          "data": {
            "image/png": "[encoded data removed]",
            "text/plain": [
              "<Figure size 432x288 with 1 Axes>"
            ]
          },
          "metadata": {
            "needs_background": "light"
          },
          "output_type": "display_data"
        },
        {
          "data": {
            "image/png": "[encoded data removed]",
            "text/plain": [
              "<Figure size 432x288 with 1 Axes>"
            ]
          },
          "metadata": {
            "needs_background": "light"
          },
          "output_type": "display_data"
        },
        {
          "data": {
            "image/png": "[encoded data removed]",
            "text/plain": [
              "<Figure size 432x288 with 1 Axes>"
            ]
          },
          "metadata": {
            "needs_background": "light"
          },
          "output_type": "display_data"
        },
        {
          "data": {
            "image/png": "[encoded data removed]",
            "text/plain": [
              "<Figure size 432x288 with 1 Axes>"
            ]
          },
          "metadata": {
            "needs_background": "light"
          },
          "output_type": "display_data"
        },
        {
          "data": {
            "image/png": "[encoded data removed]",
            "text/plain": [
              "<Figure size 432x288 with 1 Axes>"
            ]
          },
          "metadata": {
            "needs_background": "light"
          },
          "output_type": "display_data"
        },
        {
          "data": {
            "image/png": "[encoded data removed]",
            "text/plain": [
              "<Figure size 432x288 with 1 Axes>"
            ]
          },
          "metadata": {
            "needs_background": "light"
          },
          "output_type": "display_data"
        },
        {
          "data": {
            "image/png": "[encoded data removed]",
            "text/plain": [
              "<Figure size 432x288 with 1 Axes>"
            ]
          },
          "metadata": {
            "needs_background": "light"
          },
          "output_type": "display_data"
        },
        {
          "data": {
            "image/png": "[encoded data removed]",
            "text/plain": [
              "<Figure size 432x288 with 1 Axes>"
            ]
          },
          "metadata": {
            "needs_background": "light"
          },
          "output_type": "display_data"
        },
        {
          "data": {
            "image/png": "[encoded data removed]",
            "text/plain": [
              "<Figure size 432x288 with 1 Axes>"
            ]
          },
          "metadata": {
            "needs_background": "light"
          },
          "output_type": "display_data"
        },
        {
          "data": {
            "image/png": "[encoded data removed]",
            "text/plain": [
              "<Figure size 432x288 with 1 Axes>"
            ]
          },
          "metadata": {
            "needs_background": "light"
          },
          "output_type": "display_data"
        }
      ],
      "source": [
        "for col in low_cardinality_cols:\n",
        "    plt.title(f'countplot of {col}')\n",
        "    sns.countplot(y=data[col])\n",
        "    plt.show()"
      ]
    },
    {
      "cell_type": "code",
      "execution_count": 14,
      "metadata": {
        "colab": {
          "base_uri": "https://localhost:8080/"
        },
        "execution": {
          "iopub.execute_input": "2022-04-01T07:48:24.726740Z",
          "iopub.status.busy": "2022-04-01T07:48:24.726460Z",
          "iopub.status.idle": "2022-04-01T07:48:26.940665Z",
          "shell.execute_reply": "2022-04-01T07:48:26.939979Z",
          "shell.execute_reply.started": "2022-04-01T07:48:24.726689Z"
        },
        "id": "kw75k6CLBnTH",
        "outputId": "61bb2761-4ff9-4147-fa8a-c6312bd8312b",
        "trusted": true
      },
      "outputs": [
        {
          "data": {
            "text/plain": [
              "['BMI', 'PhysicalHealth', 'MentalHealth', 'SleepTime']"
            ]
          },
          "execution_count": 14,
          "metadata": {},
          "output_type": "execute_result"
        }
      ],
      "source": [
        "high_cardinality_cols=[col for col in data.columns if data[col].nunique()>14]\n",
        "high_cardinality_cols"
      ]
    },
    {
      "cell_type": "code",
      "execution_count": 15,
      "metadata": {
        "colab": {
          "base_uri": "https://localhost:8080/",
          "height": 1000
        },
        "id": "y52vd8kJCgi1",
        "outputId": "b32eb4e5-53a1-4379-de21-12eaad9527d8"
      },
      "outputs": [
        {
          "data": {
            "image/png": "[encoded data removed]",
            "text/plain": [
              "<Figure size 432x288 with 1 Axes>"
            ]
          },
          "metadata": {
            "needs_background": "light"
          },
          "output_type": "display_data"
        },
        {
          "data": {
            "image/png": "[encoded data removed]",
            "text/plain": [
              "<Figure size 432x288 with 1 Axes>"
            ]
          },
          "metadata": {
            "needs_background": "light"
          },
          "output_type": "display_data"
        },
        {
          "data": {
            "image/png": "[encoded data removed]",
            "text/plain": [
              "<Figure size 432x288 with 1 Axes>"
            ]
          },
          "metadata": {
            "needs_background": "light"
          },
          "output_type": "display_data"
        },
        {
          "data": {
            "image/png": "[encoded data removed]",
            "text/plain": [
              "<Figure size 432x288 with 1 Axes>"
            ]
          },
          "metadata": {
            "needs_background": "light"
          },
          "output_type": "display_data"
        }
      ],
      "source": [
        "for col in high_cardinality_cols:\n",
        "  plt.title(f'Distribution of {col}')\n",
        "  plt.xlabel(col)\n",
        "  sns.histplot(x=data[col],kde=True)\n",
        "  plt.show()"
      ]
    },
    {
      "cell_type": "markdown",
      "metadata": {
        "id": "Wx_5yJrXBnTH"
      },
      "source": [
        "# Feature Selection"
      ]
    },
    {
      "cell_type": "code",
      "execution_count": 16,
      "metadata": {
        "colab": {
          "base_uri": "https://localhost:8080/"
        },
        "execution": {
          "iopub.execute_input": "2022-04-01T09:18:28.712300Z",
          "iopub.status.busy": "2022-04-01T09:18:28.711813Z",
          "iopub.status.idle": "2022-04-01T09:18:28.717630Z",
          "shell.execute_reply": "2022-04-01T09:18:28.717007Z",
          "shell.execute_reply.started": "2022-04-01T09:18:28.712265Z"
        },
        "id": "v0x6XSKHBnTH",
        "outputId": "5880a089-653b-4fab-ffa8-fe5bdfeb8fb3",
        "trusted": true
      },
      "outputs": [
        {
          "data": {
            "text/plain": [
              "Index(['HeartDisease', 'BMI', 'Smoking', 'AlcoholDrinking', 'Stroke',\n",
              "       'PhysicalHealth', 'MentalHealth', 'DiffWalking', 'Sex', 'AgeCategory',\n",
              "       'Race', 'Diabetic', 'PhysicalActivity', 'GenHealth', 'SleepTime',\n",
              "       'Asthma', 'KidneyDisease', 'SkinCancer'],\n",
              "      dtype='object')"
            ]
          },
          "execution_count": 16,
          "metadata": {},
          "output_type": "execute_result"
        }
      ],
      "source": [
        "data.columns"
      ]
    },
    {
      "cell_type": "code",
      "execution_count": 17,
      "metadata": {
        "execution": {
          "iopub.execute_input": "2022-04-01T09:56:13.662193Z",
          "iopub.status.busy": "2022-04-01T09:56:13.661502Z",
          "iopub.status.idle": "2022-04-01T09:56:13.667815Z",
          "shell.execute_reply": "2022-04-01T09:56:13.666641Z",
          "shell.execute_reply.started": "2022-04-01T09:56:13.662142Z"
        },
        "id": "xnv3sjsUBnTI",
        "trusted": true
      },
      "outputs": [],
      "source": [
        "cols_to_drop=['MentalHealth','Race','SkinCancer','KidneyDisease']"
      ]
    },
    {
      "cell_type": "code",
      "execution_count": 18,
      "metadata": {
        "execution": {
          "iopub.execute_input": "2022-04-01T09:56:15.191229Z",
          "iopub.status.busy": "2022-04-01T09:56:15.190896Z",
          "iopub.status.idle": "2022-04-01T09:56:15.233530Z",
          "shell.execute_reply": "2022-04-01T09:56:15.232502Z",
          "shell.execute_reply.started": "2022-04-01T09:56:15.191195Z"
        },
        "id": "E0E86_z5BnTI",
        "trusted": true
      },
      "outputs": [],
      "source": [
        "data=data.drop(cols_to_drop,axis=1)"
      ]
    },
    {
      "cell_type": "markdown",
      "metadata": {
        "id": "NLUE86D9BnTI"
      },
      "source": [
        "# Balancing dataset with Over Sampling"
      ]
    },
    {
      "cell_type": "code",
      "execution_count": 19,
      "metadata": {
        "execution": {
          "iopub.execute_input": "2022-04-01T09:56:36.587974Z",
          "iopub.status.busy": "2022-04-01T09:56:36.587338Z",
          "iopub.status.idle": "2022-04-01T09:56:36.619124Z",
          "shell.execute_reply": "2022-04-01T09:56:36.618328Z",
          "shell.execute_reply.started": "2022-04-01T09:56:36.587934Z"
        },
        "id": "7seTwq6gBnTI",
        "trusted": true
      },
      "outputs": [],
      "source": [
        "X=data.drop('HeartDisease',axis=1)\n",
        "Y=data.HeartDisease"
      ]
    },
    {
      "cell_type": "code",
      "execution_count": 20,
      "metadata": {
        "colab": {
          "base_uri": "https://localhost:8080/"
        },
        "execution": {
          "iopub.execute_input": "2022-04-01T09:56:37.581239Z",
          "iopub.status.busy": "2022-04-01T09:56:37.580928Z",
          "iopub.status.idle": "2022-04-01T09:56:37.592165Z",
          "shell.execute_reply": "2022-04-01T09:56:37.591021Z",
          "shell.execute_reply.started": "2022-04-01T09:56:37.581207Z"
        },
        "id": "R3ja3K2yBnTI",
        "outputId": "e75d7399-ac5f-4da8-af00-4603adbffbcb",
        "trusted": true
      },
      "outputs": [
        {
          "data": {
            "text/plain": [
              "No     292422\n",
              "Yes     27373\n",
              "Name: HeartDisease, dtype: int64"
            ]
          },
          "execution_count": 20,
          "metadata": {},
          "output_type": "execute_result"
        }
      ],
      "source": [
        "Y.value_counts()"
      ]
    },
    {
      "cell_type": "code",
      "execution_count": 21,
      "metadata": {
        "execution": {
          "iopub.execute_input": "2022-04-01T09:56:39.012288Z",
          "iopub.status.busy": "2022-04-01T09:56:39.011925Z",
          "iopub.status.idle": "2022-04-01T09:56:39.361380Z",
          "shell.execute_reply": "2022-04-01T09:56:39.360603Z",
          "shell.execute_reply.started": "2022-04-01T09:56:39.012241Z"
        },
        "id": "-tLVBCKPBnTJ",
        "trusted": true
      },
      "outputs": [],
      "source": [
        "\n",
        "ros=RandomOverSampler(sampling_strategy='not majority')\n",
        "\n",
        "ros_X,ros_Y=ros.fit_resample(X,Y)\n"
      ]
    },
    {
      "cell_type": "code",
      "execution_count": 22,
      "metadata": {
        "colab": {
          "base_uri": "https://localhost:8080/"
        },
        "execution": {
          "iopub.execute_input": "2022-04-01T09:56:40.614438Z",
          "iopub.status.busy": "2022-04-01T09:56:40.613898Z",
          "iopub.status.idle": "2022-04-01T09:56:40.620868Z",
          "shell.execute_reply": "2022-04-01T09:56:40.620229Z",
          "shell.execute_reply.started": "2022-04-01T09:56:40.614385Z"
        },
        "id": "X_1CVfc5BnTJ",
        "outputId": "40db6c92-3406-4a83-e60f-6801281916c9",
        "trusted": true
      },
      "outputs": [
        {
          "name": "stdout",
          "output_type": "stream",
          "text": [
            "(584844, 13)\n"
          ]
        },
        {
          "data": {
            "text/plain": [
              "(584844,)"
            ]
          },
          "execution_count": 22,
          "metadata": {},
          "output_type": "execute_result"
        }
      ],
      "source": [
        "print(ros_X.shape)\n",
        "ros_Y.shape"
      ]
    },
    {
      "cell_type": "code",
      "execution_count": 23,
      "metadata": {
        "colab": {
          "base_uri": "https://localhost:8080/"
        },
        "execution": {
          "iopub.execute_input": "2022-04-01T09:56:43.006326Z",
          "iopub.status.busy": "2022-04-01T09:56:43.005800Z",
          "iopub.status.idle": "2022-04-01T09:56:43.017448Z",
          "shell.execute_reply": "2022-04-01T09:56:43.016482Z",
          "shell.execute_reply.started": "2022-04-01T09:56:43.006271Z"
        },
        "id": "fqgFSCTZBnTJ",
        "outputId": "dfcc9992-d4ed-42c3-98ab-ee5a0a7284bd",
        "trusted": true
      },
      "outputs": [
        {
          "data": {
            "text/plain": [
              "No     292422\n",
              "Yes    292422\n",
              "Name: HeartDisease, dtype: int64"
            ]
          },
          "execution_count": 23,
          "metadata": {},
          "output_type": "execute_result"
        }
      ],
      "source": [
        "ros_Y.value_counts()"
      ]
    },
    {
      "cell_type": "code",
      "execution_count": 24,
      "metadata": {
        "colab": {
          "base_uri": "https://localhost:8080/"
        },
        "execution": {
          "iopub.execute_input": "2022-04-01T10:00:41.392985Z",
          "iopub.status.busy": "2022-04-01T10:00:41.392605Z",
          "iopub.status.idle": "2022-04-01T10:00:41.403381Z",
          "shell.execute_reply": "2022-04-01T10:00:41.401602Z",
          "shell.execute_reply.started": "2022-04-01T10:00:41.392946Z"
        },
        "id": "rMleuPFGBnTJ",
        "outputId": "443b5b96-0e3e-4658-ac38-8add3e451bd1",
        "trusted": true
      },
      "outputs": [
        {
          "data": {
            "text/plain": [
              "0"
            ]
          },
          "execution_count": 24,
          "metadata": {},
          "output_type": "execute_result"
        }
      ],
      "source": [
        "ros_X.BMI.isna().sum()"
      ]
    },
    {
      "cell_type": "markdown",
      "metadata": {
        "id": "TRgLIq9hBnTK"
      },
      "source": [
        "# train test split"
      ]
    },
    {
      "cell_type": "code",
      "execution_count": 25,
      "metadata": {
        "execution": {
          "iopub.execute_input": "2022-04-01T10:01:45.064269Z",
          "iopub.status.busy": "2022-04-01T10:01:45.063118Z",
          "iopub.status.idle": "2022-04-01T10:01:45.214347Z",
          "shell.execute_reply": "2022-04-01T10:01:45.213283Z",
          "shell.execute_reply.started": "2022-04-01T10:01:45.064162Z"
        },
        "id": "BxNuJ_iqBnTK",
        "trusted": true
      },
      "outputs": [],
      "source": [
        "\n",
        "\n",
        "train_X,test_X,train_y,test_y=train_test_split(ros_X,ros_Y,test_size=0.15,random_state=0)"
      ]
    },
    {
      "cell_type": "code",
      "execution_count": 26,
      "metadata": {
        "id": "y7-Ef5jNIG-Q"
      },
      "outputs": [],
      "source": [
        "train_y=train_y.replace({'Yes':1, 'No':0})\n",
        "test_y=test_y.replace({'Yes':1, 'No':0})\n"
      ]
    },
    {
      "cell_type": "code",
      "execution_count": 27,
      "metadata": {
        "id": "O-HwvqvnBnTK"
      },
      "outputs": [],
      "source": [
        "cat_cols=[col for col in train_X.columns if train_X[col].dtypes=='object']\n",
        "num_cols=[col for col in train_X.columns if train_X[col].dtypes!='object']"
      ]
    },
    {
      "cell_type": "code",
      "execution_count": 28,
      "metadata": {
        "colab": {
          "base_uri": "https://localhost:8080/"
        },
        "id": "kxzJR7ByBnTK",
        "outputId": "70381591-5c7e-40a5-c77b-48f49e7ab0b5"
      },
      "outputs": [
        {
          "name": "stdout",
          "output_type": "stream",
          "text": [
            "['BMI', 'PhysicalHealth', 'SleepTime']\n",
            "['Smoking', 'AlcoholDrinking', 'Stroke', 'DiffWalking', 'Sex', 'AgeCategory', 'Diabetic', 'PhysicalActivity', 'GenHealth', 'Asthma']\n"
          ]
        }
      ],
      "source": [
        "print(num_cols)\n",
        "print(cat_cols)\n"
      ]
    },
    {
      "cell_type": "code",
      "execution_count": 29,
      "metadata": {
        "execution": {
          "iopub.execute_input": "2022-04-01T10:03:25.983109Z",
          "iopub.status.busy": "2022-04-01T10:03:25.982097Z",
          "iopub.status.idle": "2022-04-01T10:03:26.006354Z",
          "shell.execute_reply": "2022-04-01T10:03:26.005116Z",
          "shell.execute_reply.started": "2022-04-01T10:03:25.983059Z"
        },
        "id": "tj5mCAMrBnTK",
        "trusted": true
      },
      "outputs": [],
      "source": [
        "\n",
        "\n",
        "num_preprocess=Pipeline(steps=[\n",
        "    ('scale',StandardScaler())\n",
        "])\n",
        "\n",
        "obj_preprocess=Pipeline(steps=[\n",
        "    ('encode',OneHotEncoder(handle_unknown='ignore'))\n",
        "])\n",
        "\n",
        "preprocesser=ColumnTransformer(transformers=[\n",
        "    ('num',num_preprocess,num_cols),\n",
        "    ('obj',obj_preprocess,cat_cols)\n",
        "])"
      ]
    },
    {
      "cell_type": "markdown",
      "metadata": {
        "id": "29TOGljsBnTL"
      },
      "source": [
        "# Model building and Evaluation with Random Forest Classifier "
      ]
    },
    {
      "cell_type": "code",
      "execution_count": 30,
      "metadata": {
        "execution": {
          "iopub.execute_input": "2022-04-01T10:03:46.227836Z",
          "iopub.status.busy": "2022-04-01T10:03:46.227424Z",
          "iopub.status.idle": "2022-04-01T10:03:46.233059Z",
          "shell.execute_reply": "2022-04-01T10:03:46.232042Z",
          "shell.execute_reply.started": "2022-04-01T10:03:46.227785Z"
        },
        "id": "rgyYaS8rBnTL",
        "trusted": true
      },
      "outputs": [],
      "source": [
        "\n",
        "rf_model=RandomForestClassifier(n_estimators=200,random_state=0)"
      ]
    },
    {
      "cell_type": "code",
      "execution_count": 31,
      "metadata": {
        "id": "ZSmj7JlbBnTL"
      },
      "outputs": [],
      "source": [
        "rf_pipe=Pipeline(steps=[\n",
        "    ('preprocess',preprocesser),\n",
        "    ('model',rf_model)\n",
        "])"
      ]
    },
    {
      "cell_type": "code",
      "execution_count": 32,
      "metadata": {
        "colab": {
          "base_uri": "https://localhost:8080/"
        },
        "execution": {
          "iopub.execute_input": "2022-04-01T10:03:48.466553Z",
          "iopub.status.busy": "2022-04-01T10:03:48.465965Z",
          "iopub.status.idle": "2022-04-01T10:06:19.253564Z",
          "shell.execute_reply": "2022-04-01T10:06:19.252549Z",
          "shell.execute_reply.started": "2022-04-01T10:03:48.466499Z"
        },
        "id": "p8TOx73LBnTL",
        "outputId": "ed491e8d-ab4f-4fc5-9bdc-1b4d81aed432",
        "trusted": true
      },
      "outputs": [
        {
          "data": {
            "text/plain": [
              "Pipeline(steps=[('preprocess',\n",
              "                 ColumnTransformer(transformers=[('num',\n",
              "                                                  Pipeline(steps=[('scale',\n",
              "                                                                   StandardScaler())]),\n",
              "                                                  ['BMI', 'PhysicalHealth',\n",
              "                                                   'SleepTime']),\n",
              "                                                 ('obj',\n",
              "                                                  Pipeline(steps=[('encode',\n",
              "                                                                   OneHotEncoder(handle_unknown='ignore'))]),\n",
              "                                                  ['Smoking', 'AlcoholDrinking',\n",
              "                                                   'Stroke', 'DiffWalking',\n",
              "                                                   'Sex', 'AgeCategory',\n",
              "                                                   'Diabetic',\n",
              "                                                   'PhysicalActivity',\n",
              "                                                   'GenHealth', 'Asthma'])])),\n",
              "                ('model',\n",
              "                 RandomForestClassifier(n_estimators=200, random_state=0))])"
            ]
          },
          "execution_count": 32,
          "metadata": {},
          "output_type": "execute_result"
        }
      ],
      "source": [
        "rf_pipe.fit(train_X,train_y)"
      ]
    },
    {
      "cell_type": "code",
      "execution_count": 33,
      "metadata": {
        "execution": {
          "iopub.execute_input": "2022-04-01T10:06:29.403512Z",
          "iopub.status.busy": "2022-04-01T10:06:29.403175Z",
          "iopub.status.idle": "2022-04-01T10:06:37.837847Z",
          "shell.execute_reply": "2022-04-01T10:06:37.836807Z",
          "shell.execute_reply.started": "2022-04-01T10:06:29.403476Z"
        },
        "id": "9VXGSkbwBnTL",
        "trusted": true
      },
      "outputs": [],
      "source": [
        "rf_pred=rf_pipe.predict(test_X)"
      ]
    },
    {
      "cell_type": "code",
      "execution_count": 34,
      "metadata": {
        "colab": {
          "base_uri": "https://localhost:8080/"
        },
        "execution": {
          "iopub.execute_input": "2022-04-01T10:06:44.199710Z",
          "iopub.status.busy": "2022-04-01T10:06:44.199405Z",
          "iopub.status.idle": "2022-04-01T10:06:44.360514Z",
          "shell.execute_reply": "2022-04-01T10:06:44.359551Z",
          "shell.execute_reply.started": "2022-04-01T10:06:44.199680Z"
        },
        "id": "QahLYZnwBnTL",
        "outputId": "2d4f251f-6679-4474-ab50-9babc0483ba3",
        "trusted": true
      },
      "outputs": [
        {
          "name": "stdout",
          "output_type": "stream",
          "text": [
            "Accuracy Score of Random Forest Model: 0.9559884642128421\n",
            "ROC AUC Score of Random Forest Model: 0.9593465957047702\n",
            "F1 Score of Random Forest Model: 0.95777328156614\n",
            "Precision Score of Random Forest Model: 0.9988821972807738\n",
            "Recall Score of Random Forest Model: 0.9199142839135276\n",
            "Confusion Matric for Random Forest Model\n"
          ]
        },
        {
          "data": {
            "text/plain": [
              "array([[40079,    49],\n",
              "       [ 3812, 43787]], dtype=int64)"
            ]
          },
          "execution_count": 34,
          "metadata": {},
          "output_type": "execute_result"
        }
      ],
      "source": [
        "\n",
        "print(f'Accuracy Score of Random Forest Model: {accuracy_score(rf_pred,test_y)}')\n",
        "\n",
        "print(f'ROC AUC Score of Random Forest Model: {roc_auc_score(rf_pred,test_y)}')\n",
        "\n",
        "print(f'F1 Score of Random Forest Model: {f1_score(rf_pred,test_y)}')\n",
        "\n",
        "print(f'Precision Score of Random Forest Model: {precision_score(rf_pred,test_y)}')\n",
        "\n",
        "print(f'Recall Score of Random Forest Model: {recall_score(rf_pred,test_y)}')\n",
        "\n",
        "print('Confusion Matric for Random Forest Model')\n",
        "confusion_matrix(rf_pred,test_y) "
      ]
    },
    {
      "cell_type": "code",
      "execution_count": 35,
      "metadata": {
        "colab": {
          "base_uri": "https://localhost:8080/",
          "height": 351
        },
        "execution": {
          "iopub.execute_input": "2022-04-01T10:06:59.060352Z",
          "iopub.status.busy": "2022-04-01T10:06:59.060026Z",
          "iopub.status.idle": "2022-04-01T10:07:07.545638Z",
          "shell.execute_reply": "2022-04-01T10:07:07.544753Z",
          "shell.execute_reply.started": "2022-04-01T10:06:59.060312Z"
        },
        "id": "26zVWdpYBnTM",
        "outputId": "7ad279e8-7dd7-4d18-cf67-5f12b3de4958",
        "trusted": true
      },
      "outputs": [
        {
          "name": "stderr",
          "output_type": "stream",
          "text": [
            "C:\\Users\\parth\\AppData\\Local\\Programs\\Python\\Python310\\lib\\site-packages\\sklearn\\utils\\deprecation.py:87: FutureWarning: Function plot_confusion_matrix is deprecated; Function `plot_confusion_matrix` is deprecated in 1.0 and will be removed in 1.2. Use one of the class methods: ConfusionMatrixDisplay.from_predictions or ConfusionMatrixDisplay.from_estimator.\n",
            "  warnings.warn(msg, category=FutureWarning)\n"
          ]
        },
        {
          "data": {
            "text/plain": [
              "<sklearn.metrics._plot.confusion_matrix.ConfusionMatrixDisplay at 0x1d91efd9810>"
            ]
          },
          "execution_count": 35,
          "metadata": {},
          "output_type": "execute_result"
        },
        {
          "data": {
            "image/png": "[encoded data removed]",
            "text/plain": [
              "<Figure size 432x288 with 2 Axes>"
            ]
          },
          "metadata": {
            "needs_background": "light"
          },
          "output_type": "display_data"
        }
      ],
      "source": [
        "plot_confusion_matrix(rf_pipe,test_X,test_y)"
      ]
    },
    {
      "cell_type": "code",
      "execution_count": 36,
      "metadata": {
        "colab": {
          "base_uri": "https://localhost:8080/",
          "height": 313
        },
        "execution": {
          "iopub.execute_input": "2022-04-01T10:07:14.145274Z",
          "iopub.status.busy": "2022-04-01T10:07:14.144888Z",
          "iopub.status.idle": "2022-04-01T10:07:14.340475Z",
          "shell.execute_reply": "2022-04-01T10:07:14.339546Z",
          "shell.execute_reply.started": "2022-04-01T10:07:14.145234Z"
        },
        "id": "6a_2frD8BnTM",
        "outputId": "c07bb919-f6de-4410-fe08-c7d7127c599f",
        "trusted": true
      },
      "outputs": [
        {
          "data": {
            "text/plain": [
              "<AxesSubplot:title={'center':'Countplot of Actual values'}, xlabel='count', ylabel='HeartDisease'>"
            ]
          },
          "execution_count": 36,
          "metadata": {},
          "output_type": "execute_result"
        },
        {
          "data": {
            "image/png": "[encoded data removed]",
            "text/plain": [
              "<Figure size 432x288 with 1 Axes>"
            ]
          },
          "metadata": {
            "needs_background": "light"
          },
          "output_type": "display_data"
        }
      ],
      "source": [
        "plt.title('Countplot of Actual values')\n",
        "sns.countplot(y=test_y)"
      ]
    },
    {
      "cell_type": "code",
      "execution_count": 37,
      "metadata": {
        "colab": {
          "base_uri": "https://localhost:8080/",
          "height": 313
        },
        "execution": {
          "iopub.execute_input": "2022-04-01T10:07:16.492619Z",
          "iopub.status.busy": "2022-04-01T10:07:16.492271Z",
          "iopub.status.idle": "2022-04-01T10:07:16.674427Z",
          "shell.execute_reply": "2022-04-01T10:07:16.673374Z",
          "shell.execute_reply.started": "2022-04-01T10:07:16.492581Z"
        },
        "id": "z_oP5P8JBnTM",
        "outputId": "fc714857-e10e-4607-bf63-69aadcca087d",
        "trusted": true
      },
      "outputs": [
        {
          "data": {
            "text/plain": [
              "<AxesSubplot:title={'center':'Countplot of Predicted values'}, xlabel='count'>"
            ]
          },
          "execution_count": 37,
          "metadata": {},
          "output_type": "execute_result"
        },
        {
          "data": {
            "image/png": "[encoded data removed]",
            "text/plain": [
              "<Figure size 432x288 with 1 Axes>"
            ]
          },
          "metadata": {
            "needs_background": "light"
          },
          "output_type": "display_data"
        }
      ],
      "source": [
        "plt.title('Countplot of Predicted values')\n",
        "sns.countplot(y=rf_pred)"
      ]
    },
    {
      "cell_type": "code",
      "execution_count": 38,
      "metadata": {
        "id": "fth42Y0wMOS8"
      },
      "outputs": [
        {
          "data": {
            "text/plain": [
              "['rf_model.pkl']"
            ]
          },
          "execution_count": 38,
          "metadata": {},
          "output_type": "execute_result"
        }
      ],
      "source": [
        "joblib.dump(rf_pipe,'rf_model.pkl')"
      ]
    },
    {
      "cell_type": "code",
      "execution_count": null,
      "metadata": {
        "id": "UsvWKOL_Np4_"
      },
      "outputs": [],
      "source": []
    }
  ],
  "metadata": {
    "colab": {
      "include_colab_link": true,
      "name": "heart-disease.ipynb",
      "provenance": []
    },
    "kernelspec": {
      "display_name": "Python 3",
      "language": "python",
      "name": "python3"
    },
    "language_info": {
      "codemirror_mode": {
        "name": "ipython",
        "version": 3
      },
      "file_extension": ".py",
      "mimetype": "text/x-python",
      "name": "python",
      "nbconvert_exporter": "python",
      "pygments_lexer": "ipython3",
      "version": "3.10.0"
    }
  },
  "nbformat": 4,
  "nbformat_minor": 0
}
